{
 "cells": [
  {
   "cell_type": "markdown",
   "id": "786a056f",
   "metadata": {
    "toc": true
   },
   "source": [
    "<h1>Table of Contents<span class=\"tocSkip\"></span></h1>\n",
    "<div class=\"toc\"><ul class=\"toc-item\"><li><ul class=\"toc-item\"><li><span><a href=\"#Построение-рекомендательной-системы-товаров-электроники-на-основе-отзывов-с-Амазон\" data-toc-modified-id=\"Построение-рекомендательной-системы-товаров-электроники-на-основе-отзывов-с-Амазон-0.1\">Построение рекомендательной системы товаров электроники на основе отзывов с Амазон</a></span></li></ul></li><li><span><a href=\"#Table-of-contents:\" data-toc-modified-id=\"Table-of-contents:-1\">Table of contents:</a></span></li><li><span><a href=\"#Table-of-contents:\" data-toc-modified-id=\"Table-of-contents:-2\">Table of contents:</a></span></li><li><span><a href=\"#General-analysis-\" data-toc-modified-id=\"General-analysis--3\">General analysis <a class=\"anchor\" id=\"2\"></a></a></span></li><li><span><a href=\"#Distribution-of-ratings-\" data-toc-modified-id=\"Distribution-of-ratings--4\">Distribution of ratings <a class=\"anchor\" id=\"3\"></a></a></span></li><li><span><a href=\"#Distribution-of-the-time-of-the-first-ratings-\" data-toc-modified-id=\"Distribution-of-the-time-of-the-first-ratings--5\">Distribution of the time of the first ratings <a class=\"anchor\" id=\"4\"></a></a></span></li><li><span><a href=\"#Checking-and-reducing-matrix-sparsity-\" data-toc-modified-id=\"Checking-and-reducing-matrix-sparsity--6\">Checking and reducing matrix sparsity <a class=\"anchor\" id=\"5\"></a></a></span><ul class=\"toc-item\"><li><span><a href=\"#1\" data-toc-modified-id=\"1-6.1\">1</a></span></li><li><span><a href=\"#2\" data-toc-modified-id=\"2-6.2\">2</a></span></li><li><span><a href=\"#3\" data-toc-modified-id=\"3-6.3\">3</a></span></li></ul></li><li><span><a href=\"#Collaborative-filtering.-Item-based.-\" data-toc-modified-id=\"Collaborative-filtering.-Item-based.--7\">Collaborative-filtering. Item-based. <a class=\"anchor\" id=\"7\"></a></a></span><ul class=\"toc-item\"><li><span><a href=\"#Building-the-baseline-model-by-own-hands-\" data-toc-modified-id=\"Building-the-baseline-model-by-own-hands--7.1\">Building the baseline model by own hands <a class=\"anchor\" id=\"8\"></a></a></span></li><li><span><a href=\"#Building-models-with-surprise-library-\" data-toc-modified-id=\"Building-models-with-surprise-library--7.2\">Building models with surprise library <a class=\"anchor\" id=\"9\"></a></a></span><ul class=\"toc-item\"><li><span><a href=\"#KNNBasic\" data-toc-modified-id=\"KNNBasic-7.2.1\">KNNBasic</a></span></li><li><span><a href=\"#KNNWithMeans\" data-toc-modified-id=\"KNNWithMeans-7.2.2\">KNNWithMeans</a></span></li></ul></li></ul></li><li><span><a href=\"#Popular-based-algorithms-\" data-toc-modified-id=\"Popular-based-algorithms--8\">Popular-based algorithms <a class=\"anchor\" id=\"10\"></a></a></span><ul class=\"toc-item\"><li><span><a href=\"#The-most-popular-this-year-\" data-toc-modified-id=\"The-most-popular-this-year--8.1\">The most popular this year <a class=\"anchor\" id=\"11\"></a></a></span></li><li><span><a href=\"#Weighted-rating-system-\" data-toc-modified-id=\"Weighted-rating-system--8.2\">Weighted rating system <a class=\"anchor\" id=\"12\"></a></a></span></li><li><span><a href=\"#RecSys-with-custom-rating-score-\" data-toc-modified-id=\"RecSys-with-custom-rating-score--8.3\">RecSys with custom rating score <a class=\"anchor\" id=\"13\"></a></a></span></li><li><span><a href=\"#Comparison-of-results-\" data-toc-modified-id=\"Comparison-of-results--8.4\">Comparison of results <a class=\"anchor\" id=\"14\"></a></a></span></li></ul></li></ul></div>"
   ]
  },
  {
   "cell_type": "markdown",
   "id": "3efb34cb",
   "metadata": {},
   "source": [
    "### Построение рекомендательной системы товаров электроники на основе отзывов с Амазон"
   ]
  },
  {
   "cell_type": "markdown",
   "id": "64bc46bf",
   "metadata": {},
   "source": [
    "## Table of contents:\n",
    "* [Exploratory Data Analysis](#1)\n",
    "    * [General analysis](#2)\n",
    "    * [Distribution of ratings](#3)\n",
    "    * [Distribution of the time of the first ratings](#4)\n",
    "    * [Checking and reducing matrix sparsity](#5)\n",
    "* [Building Models](#6)\n",
    "    * [Collaborative-filtering. Item-based](#7)\n",
    "        * [Building the baseline model by own hands](#8)\n",
    "        * [Building models with surprise library](#9)\n",
    "    * [Popular-based algorithms](#10)\n",
    "        * [The most popular this year](#11)\n",
    "        * [Weighted rating system](#12)\n",
    "        * [RecSys with custom rating score](#13)\n",
    "        * [Comparison of results](#14)\n",
    "* [Building Final Recommendation System](#15)"
   ]
  },
  {
   "cell_type": "markdown",
   "id": "e22734ef",
   "metadata": {},
   "source": [
    "## Table of contents:\n",
    "* [Introduction](#1)\n",
    "* [Exploratory Data Analysis](#2)\n",
    "    * [General analysis](#3)\n",
    "    * [Distribution of target](#4)\n",
    "* [Data Preparation](#5)\n",
    "    * [Removing unnecessary columns](#6)\n",
    "    * [Missings problem solving](#7)\n",
    "    * [Variable Encoding](#8)\n",
    "        * [Binary variables](#9)\n",
    "        * [Multilevel variables](#10)\n",
    "    * [Dimension reduction](#11)\n",
    "    * [Building samples](#12)\n",
    "* [Building Models](#13)\n",
    "    * [Logistic Regression](#14)\n",
    "    * [Gradient Boosting](#15)\n",
    "    * [Neural Network](#16)\n",
    "* [Сonclusions](#17)\n",
    "    * [Results explanation](#18)\n",
    "    * [Possible improvements](#19)"
   ]
  },
  {
   "cell_type": "markdown",
   "id": "beeee489",
   "metadata": {},
   "source": [
    "Целью данной работы является построение рекомендательной системы для товаров электроники на основе user-item матрицы рейтингов с платформы Амазон. Первая часть работы посвящена анализу входного набора данных и уменьшению разреженности матрицы. Во второй части реализовано построение различных моделей, выбор наиболее оптимальных и их гибридизация."
   ]
  },
  {
   "cell_type": "code",
   "execution_count": 251,
   "id": "5490b7bc",
   "metadata": {},
   "outputs": [],
   "source": [
    "# Import Libraries\n",
    "import pandas as pd\n",
    "import numpy as np\n",
    "import matplotlib.pyplot as plt\n",
    "\n",
    "from collections import defaultdict\n",
    "from tqdm import tqdm_notebook\n",
    "from datetime import datetime\n",
    "from sklearn.metrics import mean_squared_error\n",
    "from sklearn.metrics.pairwise import cosine_similarity\n",
    "from scipy import sparse\n",
    "\n",
    "from surprise import KNNBasic, KNNWithMeans\n",
    "from surprise.model_selection import cross_validate, GridSearchCV, train_test_split\n",
    "from surprise import Dataset\n",
    "from surprise import Reader\n",
    "from surprise import accuracy"
   ]
  },
  {
   "cell_type": "code",
   "execution_count": 77,
   "id": "2f717849",
   "metadata": {
    "scrolled": true
   },
   "outputs": [
    {
     "name": "stdout",
     "output_type": "stream",
     "text": [
      "Collecting surprise\n",
      "  Downloading surprise-0.1-py2.py3-none-any.whl (1.8 kB)\n",
      "Collecting scikit-surprise\n",
      "  Downloading scikit-surprise-1.1.1.tar.gz (11.8 MB)\n",
      "     |████████████████████████████████| 11.8 MB 1.4 MB/s            \n",
      "\u001b[?25h  Preparing metadata (setup.py) ... \u001b[?25ldone\n",
      "\u001b[?25hRequirement already satisfied: joblib>=0.11 in /opt/anaconda3/lib/python3.8/site-packages (from scikit-surprise->surprise) (1.0.1)\n",
      "Requirement already satisfied: numpy>=1.11.2 in /opt/anaconda3/lib/python3.8/site-packages (from scikit-surprise->surprise) (1.20.1)\n",
      "Requirement already satisfied: scipy>=1.0.0 in /opt/anaconda3/lib/python3.8/site-packages (from scikit-surprise->surprise) (1.6.2)\n",
      "Requirement already satisfied: six>=1.10.0 in /opt/anaconda3/lib/python3.8/site-packages (from scikit-surprise->surprise) (1.15.0)\n",
      "Building wheels for collected packages: scikit-surprise\n",
      "  Building wheel for scikit-surprise (setup.py) ... \u001b[?25ldone\n",
      "\u001b[?25h  Created wheel for scikit-surprise: filename=scikit_surprise-1.1.1-cp38-cp38-macosx_10_9_x86_64.whl size=765202 sha256=882a2c7626ac57915feccf4f568db0a6413b7c1c2434e128264026f71b421d02\n",
      "  Stored in directory: /Users/egorvasilev/Library/Caches/pip/wheels/20/91/57/2965d4cff1b8ac7ed1b6fa25741882af3974b54a31759e10b6\n",
      "Successfully built scikit-surprise\n",
      "Installing collected packages: scikit-surprise, surprise\n",
      "Successfully installed scikit-surprise-1.1.1 surprise-0.1\n",
      "\u001b[33mWARNING: You are using pip version 21.3.1; however, version 22.1.1 is available.\n",
      "You should consider upgrading via the '/opt/anaconda3/bin/python -m pip install --upgrade pip' command.\u001b[0m\n"
     ]
    }
   ],
   "source": [
    "# !pip install surprise"
   ]
  },
  {
   "cell_type": "code",
   "execution_count": 5,
   "id": "fc483a37",
   "metadata": {},
   "outputs": [
    {
     "data": {
      "text/html": [
       "<div>\n",
       "<style scoped>\n",
       "    .dataframe tbody tr th:only-of-type {\n",
       "        vertical-align: middle;\n",
       "    }\n",
       "\n",
       "    .dataframe tbody tr th {\n",
       "        vertical-align: top;\n",
       "    }\n",
       "\n",
       "    .dataframe thead th {\n",
       "        text-align: right;\n",
       "    }\n",
       "</style>\n",
       "<table border=\"1\" class=\"dataframe\">\n",
       "  <thead>\n",
       "    <tr style=\"text-align: right;\">\n",
       "      <th></th>\n",
       "      <th>User_id</th>\n",
       "      <th>Product_id</th>\n",
       "      <th>Rating</th>\n",
       "      <th>TimeStamp</th>\n",
       "      <th>DateTime</th>\n",
       "      <th>Year</th>\n",
       "      <th>Month</th>\n",
       "    </tr>\n",
       "  </thead>\n",
       "  <tbody>\n",
       "    <tr>\n",
       "      <th>0</th>\n",
       "      <td>AKM1MP6P0OYPR</td>\n",
       "      <td>0132793040</td>\n",
       "      <td>5.0</td>\n",
       "      <td>1365811200</td>\n",
       "      <td>2013-04-13 04:00:00</td>\n",
       "      <td>2013</td>\n",
       "      <td>4</td>\n",
       "    </tr>\n",
       "    <tr>\n",
       "      <th>1</th>\n",
       "      <td>A2CX7LUOHB2NDG</td>\n",
       "      <td>0321732944</td>\n",
       "      <td>5.0</td>\n",
       "      <td>1341100800</td>\n",
       "      <td>2012-07-01 04:00:00</td>\n",
       "      <td>2012</td>\n",
       "      <td>7</td>\n",
       "    </tr>\n",
       "    <tr>\n",
       "      <th>2</th>\n",
       "      <td>A2NWSAGRHCP8N5</td>\n",
       "      <td>0439886341</td>\n",
       "      <td>1.0</td>\n",
       "      <td>1367193600</td>\n",
       "      <td>2013-04-29 04:00:00</td>\n",
       "      <td>2013</td>\n",
       "      <td>4</td>\n",
       "    </tr>\n",
       "    <tr>\n",
       "      <th>3</th>\n",
       "      <td>A2WNBOD3WNDNKT</td>\n",
       "      <td>0439886341</td>\n",
       "      <td>3.0</td>\n",
       "      <td>1374451200</td>\n",
       "      <td>2013-07-22 04:00:00</td>\n",
       "      <td>2013</td>\n",
       "      <td>7</td>\n",
       "    </tr>\n",
       "    <tr>\n",
       "      <th>4</th>\n",
       "      <td>A1GI0U4ZRJA8WN</td>\n",
       "      <td>0439886341</td>\n",
       "      <td>1.0</td>\n",
       "      <td>1334707200</td>\n",
       "      <td>2012-04-18 04:00:00</td>\n",
       "      <td>2012</td>\n",
       "      <td>4</td>\n",
       "    </tr>\n",
       "  </tbody>\n",
       "</table>\n",
       "</div>"
      ],
      "text/plain": [
       "          User_id  Product_id  Rating   TimeStamp            DateTime  Year  \\\n",
       "0   AKM1MP6P0OYPR  0132793040     5.0  1365811200 2013-04-13 04:00:00  2013   \n",
       "1  A2CX7LUOHB2NDG  0321732944     5.0  1341100800 2012-07-01 04:00:00  2012   \n",
       "2  A2NWSAGRHCP8N5  0439886341     1.0  1367193600 2013-04-29 04:00:00  2013   \n",
       "3  A2WNBOD3WNDNKT  0439886341     3.0  1374451200 2013-07-22 04:00:00  2013   \n",
       "4  A1GI0U4ZRJA8WN  0439886341     1.0  1334707200 2012-04-18 04:00:00  2012   \n",
       "\n",
       "   Month  \n",
       "0      4  \n",
       "1      7  \n",
       "2      4  \n",
       "3      7  \n",
       "4      4  "
      ]
     },
     "execution_count": 5,
     "metadata": {},
     "output_type": "execute_result"
    }
   ],
   "source": [
    "# Import Data\n",
    "df_data = pd.read_csv(\"ratings_Electronics.csv\", header = None, names = ['User_id', 'Product_id', 'Rating', 'TimeStamp'])\n",
    "# Calculating helpful fields\n",
    "df_data['DateTime'] = df_data.apply(lambda x: datetime.fromtimestamp(x['TimeStamp']), axis = 1)\n",
    "df_data['Year'] = df_data.apply(lambda x: x['DateTime'].year, axis = 1)\n",
    "df_data['Month'] = df_data.apply(lambda x: x['DateTime'].month, axis = 1)\n",
    "df_data.head()"
   ]
  },
  {
   "cell_type": "markdown",
   "id": "2c333492",
   "metadata": {},
   "source": [
    "# Exploratory Data Analysis <a class=\"anchor\" id=\"1\"></a>"
   ]
  },
  {
   "cell_type": "markdown",
   "id": "9d4cb0de",
   "metadata": {},
   "source": [
    "## General analysis <a class=\"anchor\" id=\"2\"></a>"
   ]
  },
  {
   "cell_type": "code",
   "execution_count": 6,
   "id": "ca99405b",
   "metadata": {},
   "outputs": [
    {
     "name": "stdout",
     "output_type": "stream",
     "text": [
      "<class 'pandas.core.frame.DataFrame'>\n",
      "RangeIndex: 7824482 entries, 0 to 7824481\n",
      "Data columns (total 7 columns):\n",
      " #   Column      Dtype         \n",
      "---  ------      -----         \n",
      " 0   User_id     object        \n",
      " 1   Product_id  object        \n",
      " 2   Rating      float64       \n",
      " 3   TimeStamp   int64         \n",
      " 4   DateTime    datetime64[ns]\n",
      " 5   Year        int64         \n",
      " 6   Month       int64         \n",
      "dtypes: datetime64[ns](1), float64(1), int64(3), object(2)\n",
      "memory usage: 417.9+ MB\n"
     ]
    }
   ],
   "source": [
    "df_data.info()"
   ]
  },
  {
   "cell_type": "code",
   "execution_count": 7,
   "id": "daa73407",
   "metadata": {},
   "outputs": [
    {
     "name": "stdout",
     "output_type": "stream",
     "text": [
      "Count of missing values: \n",
      "User_id       0\n",
      "Product_id    0\n",
      "Rating        0\n",
      "TimeStamp     0\n",
      "DateTime      0\n",
      "Year          0\n",
      "Month         0\n",
      "dtype: int64\n"
     ]
    }
   ],
   "source": [
    "# Missing values check\n",
    "print(f\"Count of missing values: \\n{df_data.isnull().sum()}\")"
   ]
  },
  {
   "cell_type": "code",
   "execution_count": 50,
   "id": "fc163e4b",
   "metadata": {},
   "outputs": [
    {
     "data": {
      "text/plain": [
       "User_id       False\n",
       "Product_id    False\n",
       "Rating        False\n",
       "TimeStamp     False\n",
       "DateTime      False\n",
       "Year          False\n",
       "Month         False\n",
       "dtype: bool"
      ]
     },
     "execution_count": 50,
     "metadata": {},
     "output_type": "execute_result"
    }
   ],
   "source": [
    "# Duplicates check\n",
    "df_data[df_data.duplicated()].any()"
   ]
  },
  {
   "cell_type": "code",
   "execution_count": 8,
   "id": "edd4fbf7",
   "metadata": {},
   "outputs": [
    {
     "data": {
      "text/html": [
       "<div>\n",
       "<style scoped>\n",
       "    .dataframe tbody tr th:only-of-type {\n",
       "        vertical-align: middle;\n",
       "    }\n",
       "\n",
       "    .dataframe tbody tr th {\n",
       "        vertical-align: top;\n",
       "    }\n",
       "\n",
       "    .dataframe thead th {\n",
       "        text-align: right;\n",
       "    }\n",
       "</style>\n",
       "<table border=\"1\" class=\"dataframe\">\n",
       "  <thead>\n",
       "    <tr style=\"text-align: right;\">\n",
       "      <th></th>\n",
       "      <th>count</th>\n",
       "      <th>mean</th>\n",
       "      <th>std</th>\n",
       "      <th>min</th>\n",
       "      <th>25%</th>\n",
       "      <th>50%</th>\n",
       "      <th>75%</th>\n",
       "      <th>max</th>\n",
       "    </tr>\n",
       "  </thead>\n",
       "  <tbody>\n",
       "    <tr>\n",
       "      <th>Rating</th>\n",
       "      <td>7824482.0</td>\n",
       "      <td>4.012337</td>\n",
       "      <td>1.38091</td>\n",
       "      <td>1.0</td>\n",
       "      <td>3.0</td>\n",
       "      <td>5.0</td>\n",
       "      <td>5.0</td>\n",
       "      <td>5.0</td>\n",
       "    </tr>\n",
       "  </tbody>\n",
       "</table>\n",
       "</div>"
      ],
      "text/plain": [
       "            count      mean      std  min  25%  50%  75%  max\n",
       "Rating  7824482.0  4.012337  1.38091  1.0  3.0  5.0  5.0  5.0"
      ]
     },
     "execution_count": 8,
     "metadata": {},
     "output_type": "execute_result"
    }
   ],
   "source": [
    "df_data.describe(include = ['float64']).T"
   ]
  },
  {
   "cell_type": "markdown",
   "id": "67d173d0",
   "metadata": {},
   "source": [
    "Можно заметить, что средний рейтинг почти на 1 меньше медианного, в то время, как медианный рейтинг равен максимальному значению. Это может говорить о:\n",
    "1. Смещении рейтингов вправо (более 50% проставленных оценок равны ее максимальной величине). Вероятно это связано с тем, что зачастую пользователи, совершая одну покупку, ставят ей, не задумываясь, максимальный рейтинг, если в целом их все устраивает или потому что \"так принято\". Аналогично, это может быть единственным рейтингом конкретного товара, недавно поступившего в продажу или не пользующегося спросом (за исключением собственного пиара продавца). Проверим эти гипотезы во время исследования распределения рейтингов.\n",
    "2. Наличии достаточного числа низких оценок для снижения среднего значения почти на 1.\n"
   ]
  },
  {
   "cell_type": "code",
   "execution_count": 9,
   "id": "0ccf04c8",
   "metadata": {},
   "outputs": [
    {
     "name": "stdout",
     "output_type": "stream",
     "text": [
      "Number of observations = 7824482\n",
      "Number of unique Items = 476002\n",
      "Number of unique Users = 4201696\n"
     ]
    }
   ],
   "source": [
    "print(f\"Number of observations = {len(df_data)}\\nNumber of unique Items = {len(df_data['Product_id'].unique())}\\nNumber of unique Users = {len(df_data['User_id'].unique())}\")\n"
   ]
  },
  {
   "cell_type": "markdown",
   "id": "6c810bde",
   "metadata": {},
   "source": [
    "## Distribution of ratings <a class=\"anchor\" id=\"3\"></a>"
   ]
  },
  {
   "cell_type": "code",
   "execution_count": 127,
   "id": "b5692dbe",
   "metadata": {},
   "outputs": [
    {
     "data": {
      "image/png": "[encoded data removed]",
      "text/plain": [
       "<Figure size 720x720 with 1 Axes>"
      ]
     },
     "metadata": {},
     "output_type": "display_data"
    }
   ],
   "source": [
    "# Count of ratings per year\n",
    "year_stat = dict(zip(df_data['Year'].value_counts().index, df_data['Year'].value_counts()))\n",
    "\n",
    "plt.figure(figsize = (10, 10))\n",
    "expl = 0.5\n",
    "plt.pie(year_stat.values(), \n",
    "        autopct = lambda p: format(p, '.1f') if p > 4 else None, \n",
    "        pctdistance = 0.9,\n",
    "        explode = ([0 if cnt > (0.04 * len(df_data)) else expl for cnt in year_stat.values()]))\n",
    "plt.legend(title = 'Year:', labels = year_stat.keys());"
   ]
  },
  {
   "cell_type": "markdown",
   "id": "a8f7bfa6",
   "metadata": {},
   "source": [
    "Можно заметить, что в годы до 2010 имеем меньше 5% рейтингов."
   ]
  },
  {
   "cell_type": "code",
   "execution_count": 136,
   "id": "314c0016",
   "metadata": {},
   "outputs": [
    {
     "data": {
      "image/png": "[encoded data removed]",
      "text/plain": [
       "<Figure size 720x720 with 1 Axes>"
      ]
     },
     "metadata": {},
     "output_type": "display_data"
    }
   ],
   "source": [
    "# Count of ratings per class\n",
    "class_stat = dict(zip(df_data['Rating'].value_counts().index, df_data['Rating'].value_counts()))\n",
    "\n",
    "plt.figure(figsize = (10, 10))\n",
    "plt.pie(class_stat.values(), \n",
    "        autopct = '%.1f%%',\n",
    "        labels = class_stat.keys());"
   ]
  },
  {
   "cell_type": "markdown",
   "id": "073470db",
   "metadata": {},
   "source": [
    "А также, что абсолютное большинство рейтингов - 5.0."
   ]
  },
  {
   "cell_type": "markdown",
   "id": "ce25a845",
   "metadata": {},
   "source": [
    "## Distribution of the time of the first ratings <a class=\"anchor\" id=\"4\"></a>"
   ]
  },
  {
   "cell_type": "markdown",
   "id": "4569f0e9",
   "metadata": {},
   "source": [
    "Расчитаем число пришедших пользователей в каждый год, а также число пришедших пользователей по годам, проставивших 1 рейтинг. Здесь и далее делается допущение о том, что момент прихода пользователя (его первой покупки) равен или близок к моменту его первого оставленного отзыва.\n"
   ]
  },
  {
   "cell_type": "code",
   "execution_count": 10,
   "id": "607b6410",
   "metadata": {},
   "outputs": [
    {
     "data": {
      "text/html": [
       "<div>\n",
       "<style scoped>\n",
       "    .dataframe tbody tr th:only-of-type {\n",
       "        vertical-align: middle;\n",
       "    }\n",
       "\n",
       "    .dataframe tbody tr th {\n",
       "        vertical-align: top;\n",
       "    }\n",
       "\n",
       "    .dataframe thead th {\n",
       "        text-align: right;\n",
       "    }\n",
       "</style>\n",
       "<table border=\"1\" class=\"dataframe\">\n",
       "  <thead>\n",
       "    <tr style=\"text-align: right;\">\n",
       "      <th></th>\n",
       "      <th>User_id</th>\n",
       "      <th>Year_of_1st_rate</th>\n",
       "      <th>Count_of_rates</th>\n",
       "    </tr>\n",
       "  </thead>\n",
       "  <tbody>\n",
       "    <tr>\n",
       "      <th>0</th>\n",
       "      <td>A00000262KYZUE4J55XGL</td>\n",
       "      <td>2012</td>\n",
       "      <td>1</td>\n",
       "    </tr>\n",
       "    <tr>\n",
       "      <th>1</th>\n",
       "      <td>A000063614T1OE0BUSKUT</td>\n",
       "      <td>2013</td>\n",
       "      <td>2</td>\n",
       "    </tr>\n",
       "    <tr>\n",
       "      <th>2</th>\n",
       "      <td>A00009182QVLSWIGHLS1B</td>\n",
       "      <td>2013</td>\n",
       "      <td>1</td>\n",
       "    </tr>\n",
       "    <tr>\n",
       "      <th>3</th>\n",
       "      <td>A00009661LC9LQPGKJ24G</td>\n",
       "      <td>2012</td>\n",
       "      <td>1</td>\n",
       "    </tr>\n",
       "    <tr>\n",
       "      <th>4</th>\n",
       "      <td>A00010809P09NUU6ZP6H</td>\n",
       "      <td>2013</td>\n",
       "      <td>1</td>\n",
       "    </tr>\n",
       "  </tbody>\n",
       "</table>\n",
       "</div>"
      ],
      "text/plain": [
       "                 User_id  Year_of_1st_rate  Count_of_rates\n",
       "0  A00000262KYZUE4J55XGL              2012               1\n",
       "1  A000063614T1OE0BUSKUT              2013               2\n",
       "2  A00009182QVLSWIGHLS1B              2013               1\n",
       "3  A00009661LC9LQPGKJ24G              2012               1\n",
       "4   A00010809P09NUU6ZP6H              2013               1"
      ]
     },
     "execution_count": 10,
     "metadata": {},
     "output_type": "execute_result"
    }
   ],
   "source": [
    "# Building the table User - Year of first rating - Count of ratings\n",
    "df_temp = pd.DataFrame({\n",
    "    'User_id': df_data.groupby(by = 'User_id').Year.min().index,\n",
    "    'Year_of_1st_rate': df_data.groupby(by = 'User_id').Year.min().values,\n",
    "    'Count_of_rates': df_data.groupby(by = 'User_id').Rating.count().values\n",
    "})\n",
    "df_temp.head()"
   ]
  },
  {
   "cell_type": "code",
   "execution_count": 11,
   "id": "2fdb40ed",
   "metadata": {},
   "outputs": [
    {
     "data": {
      "text/html": [
       "<div>\n",
       "<style scoped>\n",
       "    .dataframe tbody tr th:only-of-type {\n",
       "        vertical-align: middle;\n",
       "    }\n",
       "\n",
       "    .dataframe tbody tr th {\n",
       "        vertical-align: top;\n",
       "    }\n",
       "\n",
       "    .dataframe thead th {\n",
       "        text-align: right;\n",
       "    }\n",
       "</style>\n",
       "<table border=\"1\" class=\"dataframe\">\n",
       "  <thead>\n",
       "    <tr style=\"text-align: right;\">\n",
       "      <th></th>\n",
       "      <th>Year_of_1st_rate</th>\n",
       "      <th>Count_of_new_users</th>\n",
       "      <th>Count_of_new_users_1r</th>\n",
       "    </tr>\n",
       "  </thead>\n",
       "  <tbody>\n",
       "    <tr>\n",
       "      <th>16</th>\n",
       "      <td>2014</td>\n",
       "      <td>802718</td>\n",
       "      <td>650569</td>\n",
       "    </tr>\n",
       "    <tr>\n",
       "      <th>15</th>\n",
       "      <td>2013</td>\n",
       "      <td>1289455</td>\n",
       "      <td>917565</td>\n",
       "    </tr>\n",
       "    <tr>\n",
       "      <th>14</th>\n",
       "      <td>2012</td>\n",
       "      <td>676370</td>\n",
       "      <td>447532</td>\n",
       "    </tr>\n",
       "    <tr>\n",
       "      <th>13</th>\n",
       "      <td>2011</td>\n",
       "      <td>464439</td>\n",
       "      <td>295810</td>\n",
       "    </tr>\n",
       "    <tr>\n",
       "      <th>12</th>\n",
       "      <td>2010</td>\n",
       "      <td>290704</td>\n",
       "      <td>176589</td>\n",
       "    </tr>\n",
       "    <tr>\n",
       "      <th>11</th>\n",
       "      <td>2009</td>\n",
       "      <td>204685</td>\n",
       "      <td>120425</td>\n",
       "    </tr>\n",
       "    <tr>\n",
       "      <th>10</th>\n",
       "      <td>2008</td>\n",
       "      <td>156353</td>\n",
       "      <td>89655</td>\n",
       "    </tr>\n",
       "    <tr>\n",
       "      <th>9</th>\n",
       "      <td>2007</td>\n",
       "      <td>136056</td>\n",
       "      <td>76883</td>\n",
       "    </tr>\n",
       "    <tr>\n",
       "      <th>8</th>\n",
       "      <td>2006</td>\n",
       "      <td>63852</td>\n",
       "      <td>36159</td>\n",
       "    </tr>\n",
       "    <tr>\n",
       "      <th>7</th>\n",
       "      <td>2005</td>\n",
       "      <td>41691</td>\n",
       "      <td>24076</td>\n",
       "    </tr>\n",
       "    <tr>\n",
       "      <th>6</th>\n",
       "      <td>2004</td>\n",
       "      <td>23079</td>\n",
       "      <td>13587</td>\n",
       "    </tr>\n",
       "    <tr>\n",
       "      <th>5</th>\n",
       "      <td>2003</td>\n",
       "      <td>17220</td>\n",
       "      <td>10329</td>\n",
       "    </tr>\n",
       "    <tr>\n",
       "      <th>4</th>\n",
       "      <td>2002</td>\n",
       "      <td>14483</td>\n",
       "      <td>9076</td>\n",
       "    </tr>\n",
       "    <tr>\n",
       "      <th>3</th>\n",
       "      <td>2001</td>\n",
       "      <td>11804</td>\n",
       "      <td>7615</td>\n",
       "    </tr>\n",
       "    <tr>\n",
       "      <th>2</th>\n",
       "      <td>2000</td>\n",
       "      <td>7627</td>\n",
       "      <td>5127</td>\n",
       "    </tr>\n",
       "    <tr>\n",
       "      <th>1</th>\n",
       "      <td>1999</td>\n",
       "      <td>1156</td>\n",
       "      <td>831</td>\n",
       "    </tr>\n",
       "    <tr>\n",
       "      <th>0</th>\n",
       "      <td>1998</td>\n",
       "      <td>4</td>\n",
       "      <td>4</td>\n",
       "    </tr>\n",
       "  </tbody>\n",
       "</table>\n",
       "</div>"
      ],
      "text/plain": [
       "    Year_of_1st_rate  Count_of_new_users  Count_of_new_users_1r\n",
       "16              2014              802718                 650569\n",
       "15              2013             1289455                 917565\n",
       "14              2012              676370                 447532\n",
       "13              2011              464439                 295810\n",
       "12              2010              290704                 176589\n",
       "11              2009              204685                 120425\n",
       "10              2008              156353                  89655\n",
       "9               2007              136056                  76883\n",
       "8               2006               63852                  36159\n",
       "7               2005               41691                  24076\n",
       "6               2004               23079                  13587\n",
       "5               2003               17220                  10329\n",
       "4               2002               14483                   9076\n",
       "3               2001               11804                   7615\n",
       "2               2000                7627                   5127\n",
       "1               1999                1156                    831\n",
       "0               1998                   4                      4"
      ]
     },
     "execution_count": 11,
     "metadata": {},
     "output_type": "execute_result"
    }
   ],
   "source": [
    "# Building the table Year of first rating - Count of new users - Count of new users with 1 submitted rating\n",
    "n = 1\n",
    "df_stats = pd.DataFrame({\n",
    "    'Year_of_1st_rate': df_temp.groupby(by = 'Year_of_1st_rate').User_id.count().index, \n",
    "    'Count_of_new_users': df_temp.groupby(by = 'Year_of_1st_rate').User_id.count().values,\n",
    "    'Count_of_new_users_1r': df_temp[df_temp['Count_of_rates'] <= n].groupby(by = 'Year_of_1st_rate').User_id.count().values\n",
    "})\n",
    "df_stats.sort_values(by = 'Year_of_1st_rate', ascending = False)"
   ]
  },
  {
   "cell_type": "code",
   "execution_count": 12,
   "id": "f0381ac2",
   "metadata": {},
   "outputs": [
    {
     "data": {
      "image/png": "[encoded data removed]",
      "text/plain": [
       "<Figure size 720x720 with 1 Axes>"
      ]
     },
     "metadata": {
      "needs_background": "light"
     },
     "output_type": "display_data"
    }
   ],
   "source": [
    "plt.figure(figsize = (10, 10))\n",
    "plt.bar(df_stats['Year_of_1st_rate'], height = df_stats['Count_of_new_users'])\n",
    "plt.xticks(df_stats['Year_of_1st_rate'])\n",
    "plt.yticks(ticks = range(0, 1500000, 100000), labels = range(0, 1500000, 100000))\n",
    "plt.grid()\n",
    "\n",
    "plt.bar(df_stats['Year_of_1st_rate'], height = df_stats['Count_of_new_users_1r'], color = 'y')\n",
    "\n",
    "plt.xlabel('Year of first submitted rating')\n",
    "plt.ylabel('Count of Users')\n",
    "plt.legend(labels = ['Count of new users', 'Count of new users with 1 submitted rating'], loc = 'best');"
   ]
  },
  {
   "cell_type": "markdown",
   "id": "fcfa7649",
   "metadata": {},
   "source": [
    "Видно, что в каждом году большинство пользователей, проставивших свой первый рейтинг - это пользователи, проставившие за все время как раз один этот рейтинг."
   ]
  },
  {
   "cell_type": "code",
   "execution_count": 13,
   "id": "beff81f3",
   "metadata": {},
   "outputs": [
    {
     "name": "stdout",
     "output_type": "stream",
     "text": [
      "% of users who have given only one rating is: 68.58735139334212%\n"
     ]
    }
   ],
   "source": [
    "# Searching the percent of users who have given only one rating \n",
    "print(f\"% of users who have given only one rating is: {100 * (len(df_temp[df_temp['Count_of_rates'] == 1]) / len(df_temp))}%\")"
   ]
  },
  {
   "cell_type": "code",
   "execution_count": 23,
   "id": "a807fa9e",
   "metadata": {},
   "outputs": [
    {
     "name": "stdout",
     "output_type": "stream",
     "text": [
      "% of items with only one rating is: 37.7599253784648%\n"
     ]
    }
   ],
   "source": [
    "# Searching the percent of items which have only one rating \n",
    "print(f\"% of items with only one rating is: {100 * (sum(df_data.groupby(by = 'Product_id').Rating.count() == 1)/len(df_data.groupby(by = 'Product_id'))) }%\")"
   ]
  },
  {
   "cell_type": "markdown",
   "id": "3165402f",
   "metadata": {},
   "source": [
    "Следствием такого высокого процента пользователей и товаров с одним рейтингом скорее всего будет высокая разреженность матрицы рейтингов. Проверим это далее."
   ]
  },
  {
   "cell_type": "markdown",
   "id": "5c0a24a9",
   "metadata": {},
   "source": [
    "## Checking and reducing matrix sparsity <a class=\"anchor\" id=\"5\"></a>"
   ]
  },
  {
   "cell_type": "code",
   "execution_count": 24,
   "id": "bac2c512",
   "metadata": {},
   "outputs": [],
   "source": [
    "def sparse_check(data):\n",
    "    # Bringing the matrix to the form user-item\n",
    "    user_list = list(data.User_id.unique())\n",
    "    item_list = list(data.Product_id.unique())\n",
    "    ratings = list(data.Rating)\n",
    "\n",
    "    rows = data.User_id.astype('category').cat.codes\n",
    "    cols = data.Product_id.astype('category').cat.codes\n",
    "    matrix = sparse.csr_matrix((ratings, (rows, cols)), shape = (len(user_list), len(item_list)))\n",
    "\n",
    "    # Checking the sparsity of the matrix\n",
    "    matrix_size = matrix.shape[0] * matrix.shape[1]\n",
    "    ratings_cnt = len(matrix.nonzero()[0])\n",
    "    sparsity = 100 * (1 - ratings_cnt / matrix_size)\n",
    "    return sparsity\n",
    "\n",
    "# We can also get it by:\n",
    "# matrix = df_data.pivot(index = 'User_id', columns ='Product_id', values = 'Rating').fillna(0)\n",
    "# non_zero = np.count_nonzero(matrix)\n",
    "# whole_values = matrix.shape[0] * matrix.shape[1]\n",
    "# sparsity = 100 * (1 - (non_zero / whole_values))\n",
    "# matrix.nonzero()"
   ]
  },
  {
   "cell_type": "code",
   "execution_count": 26,
   "id": "ba8c1991",
   "metadata": {},
   "outputs": [
    {
     "data": {
      "text/plain": [
       "99.99960877897097"
      ]
     },
     "execution_count": 26,
     "metadata": {},
     "output_type": "execute_result"
    }
   ],
   "source": [
    "sparse_check(df_data)"
   ]
  },
  {
   "cell_type": "markdown",
   "id": "60aa6144",
   "metadata": {},
   "source": [
    "Как и ожидалось, разреженность слишком велика для применения алгоритмов. Попробуем следующие подходы ее уменьшения:\n",
    "\n",
    "1. Удалить из рассмотрения старые данные (например, до 2011 года)\n",
    "2. Удалить из рассмотрения записи пользователей, проставивших всего 1 рейтинг\n",
    "3. Удалить из рассмотрения записи о товарах, имеющих всего 1 рейтинг"
   ]
  },
  {
   "cell_type": "markdown",
   "id": "420fb516",
   "metadata": {},
   "source": [
    "### 1"
   ]
  },
  {
   "cell_type": "markdown",
   "id": "3b196739",
   "metadata": {},
   "source": [
    "Попробуем убрать из набора старые данные, так как рейтингов за то время мало, и, скорее всего, их нельзя считать актуальными."
   ]
  },
  {
   "cell_type": "code",
   "execution_count": 27,
   "id": "fe9f7464",
   "metadata": {},
   "outputs": [
    {
     "name": "stdout",
     "output_type": "stream",
     "text": [
      "Cut off Year is 2007\n",
      "Sparsity = 99.99959580795648\n",
      "Cut off Year is 2008\n",
      "Sparsity = 99.99959004564401\n",
      "Cut off Year is 2009\n",
      "Sparsity = 99.99958081062994\n",
      "Cut off Year is 2010\n",
      "Sparsity = 99.999565068841\n",
      "Cut off Year is 2011\n",
      "Sparsity = 99.99953655248893\n"
     ]
    }
   ],
   "source": [
    "cut_off_list = [2007, 2008, 2009, 2010, 2011]\n",
    "for cut_off in cut_off_list:\n",
    "    df_data_temp = df_data[df_data['Year'] > cut_off]\n",
    "    print(f\"Cut off Year is {cut_off}\\nSparsity = {sparse_check(df_data_temp)}\")"
   ]
  },
  {
   "cell_type": "markdown",
   "id": "e0580e72",
   "metadata": {},
   "source": [
    "По-прежнему имеем большую разреженность. "
   ]
  },
  {
   "cell_type": "markdown",
   "id": "9809bd7d",
   "metadata": {},
   "source": [
    "### 2"
   ]
  },
  {
   "cell_type": "markdown",
   "id": "12aa8276",
   "metadata": {},
   "source": [
    "Попробуем из исходной выборки убрать из рассмотрения пользователей с одним проставленным рейтингом, которые пришли раньше 2012 года. Будем считать их единственный рейтинг неактуальным и мало информативным\n",
    "\n",
    "Пользователей, которые пришли ранее 2012 года, но оставили более 1 рейтинга убирать не будем, так как это могут быть старые клиенты, периодически покупающие и оценивающие товары в магазине. Их рейтинги должны быть информативными, так как способствуют формированию картины о пользователях.\n",
    "\n",
    "Пользователей, проставивших 1 рейтинг и пришедших позже 2012 года убирать так же не будем, так как это новые пользователи, которые, возможно, просто не успели купить достаточное число товаров. Будем считать их актуальными пользователями, чьи рейтинги могут внести вклад в прогноз."
   ]
  },
  {
   "cell_type": "code",
   "execution_count": 30,
   "id": "7fd94090",
   "metadata": {},
   "outputs": [],
   "source": [
    "# Delete from data users with one rating and year of the first rating < 2012\n",
    "\n",
    "# Filter 1. Users with only one rating and year of the first rating < 2012\n",
    "df_filter1 = df_temp[(df_temp['Year_of_1st_rate'] < 2012) & (df_temp['Count_of_rates'] <= 1)]\n",
    "df_data_filt1 = df_data[~df_data['User_id'].isin(set(df_filter1['User_id']))]"
   ]
  },
  {
   "cell_type": "code",
   "execution_count": 31,
   "id": "ba3bb5c5",
   "metadata": {},
   "outputs": [
    {
     "data": {
      "text/plain": [
       "99.99954763442315"
      ]
     },
     "execution_count": 31,
     "metadata": {},
     "output_type": "execute_result"
    }
   ],
   "source": [
    "sparse_check(df_data_filt1)"
   ]
  },
  {
   "cell_type": "markdown",
   "id": "408695a9",
   "metadata": {},
   "source": [
    "Разреженность остается высокой. Попробуем убрать пользователей с одним рейтингом за все время."
   ]
  },
  {
   "cell_type": "code",
   "execution_count": 32,
   "id": "16495397",
   "metadata": {},
   "outputs": [
    {
     "data": {
      "text/plain": [
       "99.99909464773002"
      ]
     },
     "execution_count": 32,
     "metadata": {},
     "output_type": "execute_result"
    }
   ],
   "source": [
    "# Filter 2. All users with only one rating\n",
    "df_filter2 = df_temp[df_temp['Count_of_rates'] <= 1]\n",
    "df_data_filt2 = df_data[~df_data['User_id'].isin(set(df_filter2['User_id']))]\n",
    "sparse_check(df_data_filt2)"
   ]
  },
  {
   "cell_type": "markdown",
   "id": "0bc8fa37",
   "metadata": {},
   "source": [
    "Видно, что с помощью удаления из рассмотрения пользователей не удалось достичь приемлемой для применения алгоритмов разреженности. "
   ]
  },
  {
   "cell_type": "markdown",
   "id": "78f5aed2",
   "metadata": {},
   "source": [
    "### 3"
   ]
  },
  {
   "cell_type": "markdown",
   "id": "824525e0",
   "metadata": {},
   "source": [
    "Попробуем разобраться с товарами. Для начала посмотрим, сколько товаров имеют лишь один рейтинг, и в какой год этот рейтинг был проставлен."
   ]
  },
  {
   "cell_type": "code",
   "execution_count": 33,
   "id": "2d560d09",
   "metadata": {},
   "outputs": [
    {
     "data": {
      "text/html": [
       "<div>\n",
       "<style scoped>\n",
       "    .dataframe tbody tr th:only-of-type {\n",
       "        vertical-align: middle;\n",
       "    }\n",
       "\n",
       "    .dataframe tbody tr th {\n",
       "        vertical-align: top;\n",
       "    }\n",
       "\n",
       "    .dataframe thead th {\n",
       "        text-align: right;\n",
       "    }\n",
       "</style>\n",
       "<table border=\"1\" class=\"dataframe\">\n",
       "  <thead>\n",
       "    <tr style=\"text-align: right;\">\n",
       "      <th></th>\n",
       "      <th>Product_id</th>\n",
       "      <th>Year_of_1st_rate</th>\n",
       "      <th>Count_of_rates</th>\n",
       "    </tr>\n",
       "  </thead>\n",
       "  <tbody>\n",
       "    <tr>\n",
       "      <th>0</th>\n",
       "      <td>0132793040</td>\n",
       "      <td>2013</td>\n",
       "      <td>1</td>\n",
       "    </tr>\n",
       "    <tr>\n",
       "      <th>1</th>\n",
       "      <td>0321732944</td>\n",
       "      <td>2012</td>\n",
       "      <td>1</td>\n",
       "    </tr>\n",
       "    <tr>\n",
       "      <th>2</th>\n",
       "      <td>0439886341</td>\n",
       "      <td>2012</td>\n",
       "      <td>3</td>\n",
       "    </tr>\n",
       "    <tr>\n",
       "      <th>3</th>\n",
       "      <td>0511189877</td>\n",
       "      <td>2014</td>\n",
       "      <td>6</td>\n",
       "    </tr>\n",
       "    <tr>\n",
       "      <th>4</th>\n",
       "      <td>0528881469</td>\n",
       "      <td>2010</td>\n",
       "      <td>27</td>\n",
       "    </tr>\n",
       "  </tbody>\n",
       "</table>\n",
       "</div>"
      ],
      "text/plain": [
       "   Product_id  Year_of_1st_rate  Count_of_rates\n",
       "0  0132793040              2013               1\n",
       "1  0321732944              2012               1\n",
       "2  0439886341              2012               3\n",
       "3  0511189877              2014               6\n",
       "4  0528881469              2010              27"
      ]
     },
     "execution_count": 33,
     "metadata": {},
     "output_type": "execute_result"
    }
   ],
   "source": [
    "# Building the table Product - Year of first rating - Count of ratings\n",
    "\n",
    "df_temp = pd.DataFrame({\n",
    "    'Product_id': df_data.groupby(by = 'Product_id').Year.min().index,\n",
    "    'Year_of_1st_rate': df_data.groupby(by = 'Product_id').Year.min().values,\n",
    "    'Count_of_rates': df_data.groupby(by = 'Product_id').Rating.count().values\n",
    "})\n",
    "df_temp.head()"
   ]
  },
  {
   "cell_type": "code",
   "execution_count": 34,
   "id": "d3f0314e",
   "metadata": {},
   "outputs": [
    {
     "data": {
      "text/html": [
       "<div>\n",
       "<style scoped>\n",
       "    .dataframe tbody tr th:only-of-type {\n",
       "        vertical-align: middle;\n",
       "    }\n",
       "\n",
       "    .dataframe tbody tr th {\n",
       "        vertical-align: top;\n",
       "    }\n",
       "\n",
       "    .dataframe thead th {\n",
       "        text-align: right;\n",
       "    }\n",
       "</style>\n",
       "<table border=\"1\" class=\"dataframe\">\n",
       "  <thead>\n",
       "    <tr style=\"text-align: right;\">\n",
       "      <th></th>\n",
       "      <th>Year_of_1st_rate</th>\n",
       "      <th>Count_of_new_products</th>\n",
       "      <th>Count_of_new_products_1r</th>\n",
       "    </tr>\n",
       "  </thead>\n",
       "  <tbody>\n",
       "    <tr>\n",
       "      <th>16</th>\n",
       "      <td>2014</td>\n",
       "      <td>69938</td>\n",
       "      <td>47406</td>\n",
       "    </tr>\n",
       "    <tr>\n",
       "      <th>15</th>\n",
       "      <td>2013</td>\n",
       "      <td>125010</td>\n",
       "      <td>59179</td>\n",
       "    </tr>\n",
       "    <tr>\n",
       "      <th>14</th>\n",
       "      <td>2012</td>\n",
       "      <td>83487</td>\n",
       "      <td>26180</td>\n",
       "    </tr>\n",
       "    <tr>\n",
       "      <th>13</th>\n",
       "      <td>2011</td>\n",
       "      <td>60804</td>\n",
       "      <td>17053</td>\n",
       "    </tr>\n",
       "    <tr>\n",
       "      <th>12</th>\n",
       "      <td>2010</td>\n",
       "      <td>43317</td>\n",
       "      <td>10676</td>\n",
       "    </tr>\n",
       "    <tr>\n",
       "      <th>11</th>\n",
       "      <td>2009</td>\n",
       "      <td>26868</td>\n",
       "      <td>6488</td>\n",
       "    </tr>\n",
       "    <tr>\n",
       "      <th>10</th>\n",
       "      <td>2008</td>\n",
       "      <td>19552</td>\n",
       "      <td>4437</td>\n",
       "    </tr>\n",
       "    <tr>\n",
       "      <th>9</th>\n",
       "      <td>2007</td>\n",
       "      <td>17901</td>\n",
       "      <td>3773</td>\n",
       "    </tr>\n",
       "    <tr>\n",
       "      <th>8</th>\n",
       "      <td>2006</td>\n",
       "      <td>8837</td>\n",
       "      <td>1447</td>\n",
       "    </tr>\n",
       "    <tr>\n",
       "      <th>7</th>\n",
       "      <td>2005</td>\n",
       "      <td>6420</td>\n",
       "      <td>982</td>\n",
       "    </tr>\n",
       "    <tr>\n",
       "      <th>6</th>\n",
       "      <td>2004</td>\n",
       "      <td>4183</td>\n",
       "      <td>656</td>\n",
       "    </tr>\n",
       "    <tr>\n",
       "      <th>5</th>\n",
       "      <td>2003</td>\n",
       "      <td>3037</td>\n",
       "      <td>513</td>\n",
       "    </tr>\n",
       "    <tr>\n",
       "      <th>4</th>\n",
       "      <td>2002</td>\n",
       "      <td>2404</td>\n",
       "      <td>428</td>\n",
       "    </tr>\n",
       "    <tr>\n",
       "      <th>3</th>\n",
       "      <td>2001</td>\n",
       "      <td>1955</td>\n",
       "      <td>294</td>\n",
       "    </tr>\n",
       "    <tr>\n",
       "      <th>2</th>\n",
       "      <td>2000</td>\n",
       "      <td>1892</td>\n",
       "      <td>207</td>\n",
       "    </tr>\n",
       "    <tr>\n",
       "      <th>1</th>\n",
       "      <td>1999</td>\n",
       "      <td>394</td>\n",
       "      <td>19</td>\n",
       "    </tr>\n",
       "    <tr>\n",
       "      <th>0</th>\n",
       "      <td>1998</td>\n",
       "      <td>3</td>\n",
       "      <td>0</td>\n",
       "    </tr>\n",
       "  </tbody>\n",
       "</table>\n",
       "</div>"
      ],
      "text/plain": [
       "    Year_of_1st_rate  Count_of_new_products  Count_of_new_products_1r\n",
       "16              2014                  69938                     47406\n",
       "15              2013                 125010                     59179\n",
       "14              2012                  83487                     26180\n",
       "13              2011                  60804                     17053\n",
       "12              2010                  43317                     10676\n",
       "11              2009                  26868                      6488\n",
       "10              2008                  19552                      4437\n",
       "9               2007                  17901                      3773\n",
       "8               2006                   8837                      1447\n",
       "7               2005                   6420                       982\n",
       "6               2004                   4183                       656\n",
       "5               2003                   3037                       513\n",
       "4               2002                   2404                       428\n",
       "3               2001                   1955                       294\n",
       "2               2000                   1892                       207\n",
       "1               1999                    394                        19\n",
       "0               1998                      3                         0"
      ]
     },
     "execution_count": 34,
     "metadata": {},
     "output_type": "execute_result"
    }
   ],
   "source": [
    "# Building the table Year of first rating - Count of new Products - Count of new Products with 1 submitted rating\n",
    "\n",
    "n = 1\n",
    "\n",
    "df_stats = pd.DataFrame({\n",
    "    'Year_of_1st_rate': df_temp.groupby(by = 'Year_of_1st_rate').Product_id.count().index, \n",
    "    'Count_of_new_products': df_temp.groupby(by = 'Year_of_1st_rate').Product_id.count().values,\n",
    "    'Count_of_new_products_1r': pd.Series(data = {'1998': 0}, index = ['1998']).append(df_temp[df_temp['Count_of_rates'] <= n].groupby(by = 'Year_of_1st_rate').Product_id.count()).values\n",
    "})\n",
    "df_stats.sort_values(by = 'Year_of_1st_rate', ascending = False)\n",
    "\n"
   ]
  },
  {
   "cell_type": "code",
   "execution_count": 35,
   "id": "77a65bc3",
   "metadata": {},
   "outputs": [
    {
     "data": {
      "image/png": "[encoded data removed]",
      "text/plain": [
       "<Figure size 720x720 with 1 Axes>"
      ]
     },
     "metadata": {
      "needs_background": "light"
     },
     "output_type": "display_data"
    }
   ],
   "source": [
    "plt.figure(figsize = (10, 10))\n",
    "plt.bar(df_stats['Year_of_1st_rate'], height = df_stats['Count_of_new_products'])\n",
    "plt.xticks(df_stats['Year_of_1st_rate'])\n",
    "plt.yticks(ticks = range(0, 130000, 10000), labels = range(0,130000, 10000))\n",
    "plt.grid()\n",
    "\n",
    "plt.bar(df_stats['Year_of_1st_rate'], height = df_stats['Count_of_new_products_1r'], color = 'y')\n",
    "\n",
    "plt.xlabel('Year of first submitted rating')\n",
    "plt.ylabel('Count of Products')\n",
    "plt.legend(labels = ['Count of new products', 'Count of new products with 1 submitted rating'], loc = 'best');"
   ]
  },
  {
   "cell_type": "markdown",
   "id": "f01796b4",
   "metadata": {},
   "source": [
    "Попробуем убрать из рассмотрения записи о товарах с одним рейтингом, появившиеся раньше 2014 года. Данные, появившиеся позднее будем считать рейтингами новых на рынке товаров. Также оставим прошлый фильтр на пользователей с 1 рейтингом."
   ]
  },
  {
   "cell_type": "code",
   "execution_count": 37,
   "id": "c6644271",
   "metadata": {},
   "outputs": [
    {
     "data": {
      "text/plain": [
       "99.99883871274494"
      ]
     },
     "execution_count": 37,
     "metadata": {},
     "output_type": "execute_result"
    }
   ],
   "source": [
    "# Filter 3. Items with one ratings with year fo the first rating < 2014 + Filter 2 \n",
    "df_filter3 = df_temp[(df_temp['Year_of_1st_rate'] <= 2013) & (df_temp['Count_of_rates'] <= 1)]\n",
    "df_data_filt3 = df_data[~df_data['Product_id'].isin(list(df_filter3['Product_id']))]\n",
    "df_data_filt3 = df_data_filt3[~df_data_filt3['User_id'].isin(list(df_filter2['User_id']))]\n",
    "sparse_check(df_data_filt3)"
   ]
  },
  {
   "cell_type": "markdown",
   "id": "ed529ce1",
   "metadata": {},
   "source": [
    "Приемлемой разреженности марицы по-прежнему не удалось достичь. Так как бОльший вклад в значение разреженности вносят товары (по каждому товару имеем более 4 млн возможных значений рейтингов), продолжим разбираться именно с ними.\n",
    "\n",
    "Попробуем убрать из рассмотрения записи о товарах, чей последний проставленный рейтинг датируется ранее 2013 года. Исходим из предположения о том, что, если больше года никто не ставил рейтинг товару, то он либо не продается, либо не пользуется популярностью и не актуален."
   ]
  },
  {
   "cell_type": "code",
   "execution_count": 39,
   "id": "d5b7848c",
   "metadata": {},
   "outputs": [
    {
     "data": {
      "text/html": [
       "<div>\n",
       "<style scoped>\n",
       "    .dataframe tbody tr th:only-of-type {\n",
       "        vertical-align: middle;\n",
       "    }\n",
       "\n",
       "    .dataframe tbody tr th {\n",
       "        vertical-align: top;\n",
       "    }\n",
       "\n",
       "    .dataframe thead th {\n",
       "        text-align: right;\n",
       "    }\n",
       "</style>\n",
       "<table border=\"1\" class=\"dataframe\">\n",
       "  <thead>\n",
       "    <tr style=\"text-align: right;\">\n",
       "      <th></th>\n",
       "      <th>Product_id</th>\n",
       "      <th>Year_of_last_rate</th>\n",
       "    </tr>\n",
       "  </thead>\n",
       "  <tbody>\n",
       "    <tr>\n",
       "      <th>0</th>\n",
       "      <td>0132793040</td>\n",
       "      <td>2013</td>\n",
       "    </tr>\n",
       "    <tr>\n",
       "      <th>1</th>\n",
       "      <td>0321732944</td>\n",
       "      <td>2012</td>\n",
       "    </tr>\n",
       "    <tr>\n",
       "      <th>2</th>\n",
       "      <td>0439886341</td>\n",
       "      <td>2013</td>\n",
       "    </tr>\n",
       "    <tr>\n",
       "      <th>3</th>\n",
       "      <td>0511189877</td>\n",
       "      <td>2014</td>\n",
       "    </tr>\n",
       "    <tr>\n",
       "      <th>4</th>\n",
       "      <td>0528881469</td>\n",
       "      <td>2014</td>\n",
       "    </tr>\n",
       "  </tbody>\n",
       "</table>\n",
       "</div>"
      ],
      "text/plain": [
       "   Product_id  Year_of_last_rate\n",
       "0  0132793040               2013\n",
       "1  0321732944               2012\n",
       "2  0439886341               2013\n",
       "3  0511189877               2014\n",
       "4  0528881469               2014"
      ]
     },
     "execution_count": 39,
     "metadata": {},
     "output_type": "execute_result"
    }
   ],
   "source": [
    "# Building the table Product - Year of last submitted rating\n",
    "df_temp = pd.DataFrame({\n",
    "    'Product_id': df_data.groupby(by = 'Product_id').Year.max().index,\n",
    "    'Year_of_last_rate': df_data.groupby(by = 'Product_id').Year.max().values})\n",
    "df_temp.head()"
   ]
  },
  {
   "cell_type": "code",
   "execution_count": 40,
   "id": "5662b8fb",
   "metadata": {},
   "outputs": [],
   "source": [
    "# Building the table Year of last rating - count of products with last ratings\n",
    "df_stats = pd.DataFrame({\n",
    "    'Year_of_last_rate': df_temp.groupby(by = 'Year_of_last_rate').Product_id.count().index,\n",
    "    'Count_of_products': df_temp.groupby(by = 'Year_of_last_rate').Product_id.count().values\n",
    "})"
   ]
  },
  {
   "cell_type": "code",
   "execution_count": 41,
   "id": "4879fffe",
   "metadata": {},
   "outputs": [
    {
     "data": {
      "image/png": "[encoded data removed]",
      "text/plain": [
       "<Figure size 720x720 with 1 Axes>"
      ]
     },
     "metadata": {
      "needs_background": "light"
     },
     "output_type": "display_data"
    }
   ],
   "source": [
    "plt.figure(figsize = (10, 10))\n",
    "plt.bar(df_stats['Year_of_last_rate'], height = df_stats['Count_of_products'])\n",
    "plt.xticks(df_stats['Year_of_last_rate'])\n",
    "plt.yticks(ticks = range(0, 210000, 10000), labels = range(0,210000, 10000))\n",
    "plt.grid()\n",
    "\n",
    "plt.xlabel('Year of last submitted rating')\n",
    "plt.ylabel('Count of Products');"
   ]
  },
  {
   "cell_type": "code",
   "execution_count": 42,
   "id": "b1e8981e",
   "metadata": {},
   "outputs": [
    {
     "data": {
      "text/plain": [
       "99.99860747992082"
      ]
     },
     "execution_count": 42,
     "metadata": {},
     "output_type": "execute_result"
    }
   ],
   "source": [
    "# Filter 4. Items with year of last rating < 2013\n",
    "df_filter4 = df_temp[df_temp['Year_of_last_rate'] <= 2012]\n",
    "\n",
    "df_data_filt4 = df_data_filt3[~df_data_filt3['Product_id'].isin(set(df_filter4['Product_id']))]\n",
    "sparse_check(df_data_filt4)"
   ]
  },
  {
   "cell_type": "markdown",
   "id": "3d33fe26",
   "metadata": {},
   "source": [
    "Приемлемой разреженности достичь не удалось. Остается лишь применить \"грубый\" фильтр на всех пользователей, проставивших за все время меньше n рейтингов, где  n = [30, 40, 50]. Таким образом мы заодно избежим влияние рейтингов пользователей, оставивших малое число оценок (и как правило, исключительно положительных), на прогноз.\n",
    "\n",
    "Подобный фильтр применим и к товарам. Оставим лишь те, что имеют не менее 15 оценок. Будем считать, что для рекомендации остальных товаров мы имеем слишком мало информации.\n",
    "\n",
    "Следует учитывать, что после применения фильтра на пользователей из набора могут удалиться также и все записи о некоторых товарах с более, чем 15 оценками. На данном этапе мы примем эти потери, после же, возможно, вернемся к этому вопросу."
   ]
  },
  {
   "cell_type": "code",
   "execution_count": 54,
   "id": "5a766052",
   "metadata": {},
   "outputs": [
    {
     "name": "stdout",
     "output_type": "stream",
     "text": [
      "Current n = 30\n",
      "Current sparsity = 99.90082862271986\n",
      "Current n = 40\n",
      "Current sparsity = 99.84330925058703\n",
      "Current n = 50\n",
      "Current sparsity = 99.76634772189999\n"
     ]
    }
   ],
   "source": [
    "n_list = [30, 40, 50]\n",
    "df_agg = pd.DataFrame({\n",
    "    'User_id': df_data.groupby(by = 'User_id').Rating.count().index,\n",
    "    'Count': df_data.groupby(by = 'User_id').Rating.count().values\n",
    "})\n",
    "df_agg2 = pd.DataFrame({\n",
    "    'Product_id': df_data.groupby(by = 'Product_id').Rating.count().index,\n",
    "    'Count': df_data.groupby(by = 'Product_id').Rating.count().values\n",
    "})\n",
    "filt2 = df_agg2[df_agg2['Count'] < 15]\n",
    "for n in n_list:\n",
    "    filt = df_agg[df_agg['Count'] <= n]\n",
    "    df_filt = df_data[(~df_data['User_id'].isin(set(filt['User_id']))) & (~df_data['Product_id'].isin(set(filt2['Product_id'])))]\n",
    "    print(f\"Current n = {n}\\nCurrent sparsity = {sparse_check(df_filt)}\")\n",
    "    "
   ]
  },
  {
   "cell_type": "markdown",
   "id": "2affabe8",
   "metadata": {},
   "source": [
    "Можно заметить, что даже при таких грубых фильтрах разреженность матрицы остается выше 99.5% Поэтому применять алгоритм SVD для построения рекомендательной системы мы не сможем.\n",
    "\n",
    "Для дальнейшей работы оставим фильтр на n = 40."
   ]
  },
  {
   "cell_type": "code",
   "execution_count": 55,
   "id": "593a20dd",
   "metadata": {},
   "outputs": [],
   "source": [
    "filt = df_agg[df_agg['Count'] <= 40]\n",
    "df_data_filt = df_data[(~df_data['User_id'].isin(set(filt['User_id']))) & (~df_data['Product_id'].isin(set(filt2['Product_id'])))]"
   ]
  },
  {
   "cell_type": "code",
   "execution_count": 56,
   "id": "9b847692",
   "metadata": {},
   "outputs": [
    {
     "name": "stdout",
     "output_type": "stream",
     "text": [
      "1.810714115004674% of input data will use in work\n"
     ]
    }
   ],
   "source": [
    "# Calculating the percent of observations which have passed through the filter\n",
    "print(f\"{100 * (len(df_data_filt) / len(df_data))}% of input data will use in work\")"
   ]
  },
  {
   "cell_type": "code",
   "execution_count": 57,
   "id": "b90f76f9",
   "metadata": {},
   "outputs": [
    {
     "name": "stdout",
     "output_type": "stream",
     "text": [
      "Number of observations = 141679\n",
      "Number of unique Items = 35895\n",
      "Number of unique Users = 2519\n"
     ]
    }
   ],
   "source": [
    "print(f\"Number of observations = {len(df_data_filt)}\\nNumber of unique Items = {len(df_data_filt['Product_id'].unique())}\\nNumber of unique Users = {len(df_data_filt['User_id'].unique())}\")"
   ]
  },
  {
   "cell_type": "markdown",
   "id": "895d5ac4",
   "metadata": {},
   "source": [
    "# Building Models <a class=\"anchor\" id=\"6\"></a>"
   ]
  },
  {
   "cell_type": "markdown",
   "id": "5a2ce1a8",
   "metadata": {},
   "source": [
    "## Collaborative-filtering. Item-based. <a class=\"anchor\" id=\"7\"></a>"
   ]
  },
  {
   "cell_type": "markdown",
   "id": "c923b0c3",
   "metadata": {},
   "source": [
    "Так как в нашей выборке имеем кол-во товаров >> кол-ва пользователей, будем строить item-based модель коллаборативной фильтрации.\n",
    "\n",
    "Для начала необходимо разбить выборку на train & test. Вместо случайного разбиения предлагается использовать подход отсечения последних 20% оценок каждого пользователя. Таким образом мы добьемся того, что:\n",
    "\n",
    "1. Каждый пользователь внесет вклад в обучение модели\n",
    "2. Качество модели будет проверено на каждом пользователе\n",
    "3. Прогноз не будет основываться на \"будущем\""
   ]
  },
  {
   "cell_type": "code",
   "execution_count": 58,
   "id": "dad1ce32",
   "metadata": {},
   "outputs": [
    {
     "data": {
      "text/html": [
       "<div>\n",
       "<style scoped>\n",
       "    .dataframe tbody tr th:only-of-type {\n",
       "        vertical-align: middle;\n",
       "    }\n",
       "\n",
       "    .dataframe tbody tr th {\n",
       "        vertical-align: top;\n",
       "    }\n",
       "\n",
       "    .dataframe thead th {\n",
       "        text-align: right;\n",
       "    }\n",
       "</style>\n",
       "<table border=\"1\" class=\"dataframe\">\n",
       "  <thead>\n",
       "    <tr style=\"text-align: right;\">\n",
       "      <th></th>\n",
       "      <th>User_id</th>\n",
       "      <th>Product_id</th>\n",
       "      <th>Rating</th>\n",
       "      <th>TimeStamp</th>\n",
       "      <th>DateTime</th>\n",
       "      <th>Year</th>\n",
       "      <th>Month</th>\n",
       "    </tr>\n",
       "  </thead>\n",
       "  <tbody>\n",
       "    <tr>\n",
       "      <th>118</th>\n",
       "      <td>AT09WGFUM934H</td>\n",
       "      <td>0594481813</td>\n",
       "      <td>3.0</td>\n",
       "      <td>1377907200</td>\n",
       "      <td>2013-08-31 04:00:00</td>\n",
       "      <td>2013</td>\n",
       "      <td>8</td>\n",
       "    </tr>\n",
       "    <tr>\n",
       "      <th>200</th>\n",
       "      <td>A3BMUBUC1N77U8</td>\n",
       "      <td>0972683275</td>\n",
       "      <td>4.0</td>\n",
       "      <td>1385164800</td>\n",
       "      <td>2013-11-23 04:00:00</td>\n",
       "      <td>2013</td>\n",
       "      <td>11</td>\n",
       "    </tr>\n",
       "    <tr>\n",
       "      <th>389</th>\n",
       "      <td>A6J8D9V5S9MBE</td>\n",
       "      <td>0972683275</td>\n",
       "      <td>5.0</td>\n",
       "      <td>1306886400</td>\n",
       "      <td>2011-06-01 04:00:00</td>\n",
       "      <td>2011</td>\n",
       "      <td>6</td>\n",
       "    </tr>\n",
       "    <tr>\n",
       "      <th>492</th>\n",
       "      <td>A3CLWR1UUZT6TG</td>\n",
       "      <td>0972683275</td>\n",
       "      <td>5.0</td>\n",
       "      <td>1373587200</td>\n",
       "      <td>2013-07-12 04:00:00</td>\n",
       "      <td>2013</td>\n",
       "      <td>7</td>\n",
       "    </tr>\n",
       "    <tr>\n",
       "      <th>583</th>\n",
       "      <td>A11NR4AJK9TNQM</td>\n",
       "      <td>0972683275</td>\n",
       "      <td>4.0</td>\n",
       "      <td>1311552000</td>\n",
       "      <td>2011-07-25 04:00:00</td>\n",
       "      <td>2011</td>\n",
       "      <td>7</td>\n",
       "    </tr>\n",
       "  </tbody>\n",
       "</table>\n",
       "</div>"
      ],
      "text/plain": [
       "            User_id  Product_id  Rating   TimeStamp            DateTime  Year  \\\n",
       "118   AT09WGFUM934H  0594481813     3.0  1377907200 2013-08-31 04:00:00  2013   \n",
       "200  A3BMUBUC1N77U8  0972683275     4.0  1385164800 2013-11-23 04:00:00  2013   \n",
       "389   A6J8D9V5S9MBE  0972683275     5.0  1306886400 2011-06-01 04:00:00  2011   \n",
       "492  A3CLWR1UUZT6TG  0972683275     5.0  1373587200 2013-07-12 04:00:00  2013   \n",
       "583  A11NR4AJK9TNQM  0972683275     4.0  1311552000 2011-07-25 04:00:00  2011   \n",
       "\n",
       "     Month  \n",
       "118      8  \n",
       "200     11  \n",
       "389      6  \n",
       "492      7  \n",
       "583      7  "
      ]
     },
     "execution_count": 58,
     "metadata": {},
     "output_type": "execute_result"
    }
   ],
   "source": [
    "df_data_filt.head()"
   ]
  },
  {
   "cell_type": "code",
   "execution_count": 59,
   "id": "021438e3",
   "metadata": {},
   "outputs": [
    {
     "name": "stderr",
     "output_type": "stream",
     "text": [
      "<ipython-input-59-8dbd6f8141c7>:3: SettingWithCopyWarning: \n",
      "A value is trying to be set on a copy of a slice from a DataFrame\n",
      "\n",
      "See the caveats in the documentation: https://pandas.pydata.org/pandas-docs/stable/user_guide/indexing.html#returning-a-view-versus-a-copy\n",
      "  df_data_filt.sort_values(by = ['DateTime'], inplace = True)\n",
      "<ipython-input-59-8dbd6f8141c7>:13: TqdmDeprecationWarning: This function will be removed in tqdm==5.0.0\n",
      "Please use `tqdm.notebook.tqdm` instead of `tqdm.tqdm_notebook`\n",
      "  for userId in tqdm_notebook(userIds):\n"
     ]
    },
    {
     "data": {
      "application/vnd.jupyter.widget-view+json": {
       "model_id": "90d57e6c9cd140fca85b19684a7a2a3c",
       "version_major": 2,
       "version_minor": 0
      },
      "text/plain": [
       "  0%|          | 0/2519 [00:00<?, ?it/s]"
      ]
     },
     "metadata": {},
     "output_type": "display_data"
    }
   ],
   "source": [
    "# Setting 20% last ratings of each user to the test sample \n",
    "# Sorting by time\n",
    "df_data_filt.sort_values(by = ['DateTime'], inplace = True)\n",
    "\n",
    "# Splitting obs to the samples for each user\n",
    "userIds = df_data_filt['User_id'].unique()\n",
    "\n",
    "X_train_data = []\n",
    "X_test_data = []\n",
    "Y_train = []\n",
    "Y_test = []\n",
    "\n",
    "for userId in tqdm_notebook(userIds):\n",
    "    curUser = df_data_filt[df_data_filt['User_id'] == userId]\n",
    "    idx = int(curUser.shape[0] * 0.8)\n",
    "    X_train_data.append(curUser[['User_id', 'Product_id']].iloc[:idx, :].values)\n",
    "    X_test_data.append(curUser[['User_id', 'Product_id']].iloc[idx:, :].values)\n",
    "    Y_train.append(curUser['Rating'].values[:idx])\n",
    "    Y_test.append(curUser['Rating'].values[idx:])\n",
    "    \n",
    "X_train = pd.DataFrame(np.vstack(X_train_data), columns = ['User_id', 'Product_id'])\n",
    "X_test = pd.DataFrame(np.vstack(X_test_data), columns = ['User_id', 'Product_id'])\n",
    "Y_train = np.hstack(Y_train)\n",
    "Y_test = np.hstack(Y_test)"
   ]
  },
  {
   "cell_type": "code",
   "execution_count": 60,
   "id": "b8d7ef92",
   "metadata": {},
   "outputs": [
    {
     "data": {
      "text/plain": [
       "((112341, 2), 112341, (29338, 2), 29338)"
      ]
     },
     "execution_count": 60,
     "metadata": {},
     "output_type": "execute_result"
    }
   ],
   "source": [
    "X_train.shape, len(Y_train), X_test.shape, len(Y_test)"
   ]
  },
  {
   "cell_type": "code",
   "execution_count": 62,
   "id": "cb71b23d",
   "metadata": {},
   "outputs": [],
   "source": [
    "# Define fuction for calculating the RMSE metric - the most popular metric for this kind of tasks\n",
    "def rmse(y_true, y_pred):\n",
    "    return np.sqrt(np.mean(np.square(y_true - y_pred)))"
   ]
  },
  {
   "cell_type": "markdown",
   "id": "236704ef",
   "metadata": {},
   "source": [
    "### Building the baseline model by own hands <a class=\"anchor\" id=\"8\"></a>"
   ]
  },
  {
   "cell_type": "code",
   "execution_count": 70,
   "id": "2c29dae2",
   "metadata": {},
   "outputs": [],
   "source": [
    "class ItemBased():\n",
    "    def fit(self, X, Y, user_col = 'User_id', item_col = 'Product_id'):\n",
    "        X = X.copy()\n",
    "        self.users = X[user_col].unique()\n",
    "        self.items = X[item_col].unique()\n",
    "        \n",
    "        X['y'] = Y\n",
    "        # Calculating the average value fof rating for each user and item\n",
    "        self.mean_y_user = X.groupby(user_col)['y'].mean()\n",
    "        self.mean_y_item = X.groupby(item_col)['y'].mean()\n",
    "        \n",
    "        # Substract the average rating of the item\n",
    "        X['y'] -= X[item_col].apply(lambda x: self.mean_y_item[x])\n",
    "        \n",
    "        # Building vectors of users' ratings for each item\n",
    "        # If current user hasn't set a rating, put 0\n",
    "        self.item_ratings = pd.pivot_table(X, values='y', index=item_col,\n",
    "                                           columns=user_col, fill_value=0)\n",
    "        \n",
    "        # Calculating pairwise similarity between items\n",
    "        self.item_sim = cosine_similarity(self.item_ratings)\n",
    "        \n",
    "        # Building the dictionary item : index in item_ratings\n",
    "        self.item_pos = dict()\n",
    "        for item in self.items:\n",
    "            self.item_pos[item] = np.argwhere(self.item_ratings.index.values == item)[0][0]\n",
    "        \n",
    "        return self\n",
    "    \n",
    "    def predict_r(self, pr_user, pr_item):\n",
    "        # If there aren't any obs with this user or item in train sample, return 0 to avoid the affecting on RMSE\n",
    "        if not pr_item in self.items or not pr_user in self.users:\n",
    "            return 0\n",
    "        \n",
    "        # Calculating the numerator and denominator of the main prediction formula\n",
    "        numerator = self.item_sim[self.item_pos[pr_item]].dot(self.item_ratings.loc[:, pr_user])\n",
    "        denominator = np.abs(self.item_sim[self.item_pos[pr_item]]).sum() - 1\n",
    "        \n",
    "        return self.mean_y_item[pr_item] + numerator / denominator\n",
    "    \n",
    "    def predict(self, X, user_col = 'User_id', item_col = 'Product_id'):\n",
    "        y = X[[user_col, item_col]].apply(lambda row: self.predict_r(row[0], row[1]), axis = 1)\n",
    "        return y\n",
    "\n",
    "\n"
   ]
  },
  {
   "cell_type": "code",
   "execution_count": 71,
   "id": "544aaaa7",
   "metadata": {},
   "outputs": [
    {
     "name": "stdout",
     "output_type": "stream",
     "text": [
      "Training..\n",
      "Predicting..\n",
      "rmse = 2.329728723207591\n",
      "CPU times: user 7min 18s, sys: 1min 18s, total: 8min 37s\n",
      "Wall time: 1min 44s\n"
     ]
    }
   ],
   "source": [
    "%%time\n",
    "print('Training..')\n",
    "ib_model = ItemBased().fit(X_train, Y_train)\n",
    "print('Predicting..')\n",
    "print(f\"rmse = {rmse(Y_test, ib_model.predict(X_test))}\")"
   ]
  },
  {
   "cell_type": "markdown",
   "id": "366ef4d9",
   "metadata": {},
   "source": [
    "Получили Baseline модель с достаточно большой ошибкой."
   ]
  },
  {
   "cell_type": "code",
   "execution_count": 75,
   "id": "6d834d81",
   "metadata": {},
   "outputs": [
    {
     "data": {
      "text/plain": [
       "4.532070923680401"
      ]
     },
     "execution_count": 75,
     "metadata": {},
     "output_type": "execute_result"
    }
   ],
   "source": [
    "# ib_model.predict_r(pr_user = 'A3BMUBUC1N77U8', pr_item = '0972683275')"
   ]
  },
  {
   "cell_type": "markdown",
   "id": "68461c84",
   "metadata": {},
   "source": [
    "### Building models with surprise library <a class=\"anchor\" id=\"9\"></a>"
   ]
  },
  {
   "cell_type": "markdown",
   "id": "7aea876e",
   "metadata": {},
   "source": [
    "Попробуем построить item-based модели двух типов: KNNBasic и KNNWithMeans. Прогноз первой будет равен сумме взвешенных по похожести рейтингов других товаров, оцененнных рассматриваемым пользователем. Прогноз второй будет равен сумме среднего рейтинга рассматриваемого товара и взвешенной сумме отклонений проставленных рейтингов текущим пользователем от среднего рейтинга каждого из оцененных им товаров.\n",
    "\n",
    "\n",
    "Достоинство модели KNNWithMeans заключается в том, что она осуществляет центрирование по среднему рейтингу рассматриваемого товара."
   ]
  },
  {
   "cell_type": "markdown",
   "id": "c9eb5886",
   "metadata": {},
   "source": [
    "Для каждого из типов моделей будем использовать подбор оптимальных параметров по сетке."
   ]
  },
  {
   "cell_type": "markdown",
   "id": "f88e8b13",
   "metadata": {},
   "source": [
    "#### KNNBasic"
   ]
  },
  {
   "cell_type": "code",
   "execution_count": 89,
   "id": "f7712743",
   "metadata": {},
   "outputs": [
    {
     "data": {
      "text/html": [
       "<div>\n",
       "<style scoped>\n",
       "    .dataframe tbody tr th:only-of-type {\n",
       "        vertical-align: middle;\n",
       "    }\n",
       "\n",
       "    .dataframe tbody tr th {\n",
       "        vertical-align: top;\n",
       "    }\n",
       "\n",
       "    .dataframe thead th {\n",
       "        text-align: right;\n",
       "    }\n",
       "</style>\n",
       "<table border=\"1\" class=\"dataframe\">\n",
       "  <thead>\n",
       "    <tr style=\"text-align: right;\">\n",
       "      <th></th>\n",
       "      <th>User_id</th>\n",
       "      <th>Product_id</th>\n",
       "      <th>Rating</th>\n",
       "    </tr>\n",
       "  </thead>\n",
       "  <tbody>\n",
       "    <tr>\n",
       "      <th>0</th>\n",
       "      <td>A1EARN5PUVIF1S</td>\n",
       "      <td>B00000J4FY</td>\n",
       "      <td>5.0</td>\n",
       "    </tr>\n",
       "    <tr>\n",
       "      <th>1</th>\n",
       "      <td>A1EARN5PUVIF1S</td>\n",
       "      <td>B00004TS16</td>\n",
       "      <td>5.0</td>\n",
       "    </tr>\n",
       "    <tr>\n",
       "      <th>2</th>\n",
       "      <td>A1EARN5PUVIF1S</td>\n",
       "      <td>B00004WHFL</td>\n",
       "      <td>3.0</td>\n",
       "    </tr>\n",
       "    <tr>\n",
       "      <th>3</th>\n",
       "      <td>A1EARN5PUVIF1S</td>\n",
       "      <td>B00006AL0S</td>\n",
       "      <td>5.0</td>\n",
       "    </tr>\n",
       "    <tr>\n",
       "      <th>4</th>\n",
       "      <td>A1EARN5PUVIF1S</td>\n",
       "      <td>B0000633EO</td>\n",
       "      <td>4.0</td>\n",
       "    </tr>\n",
       "  </tbody>\n",
       "</table>\n",
       "</div>"
      ],
      "text/plain": [
       "          User_id  Product_id  Rating\n",
       "0  A1EARN5PUVIF1S  B00000J4FY     5.0\n",
       "1  A1EARN5PUVIF1S  B00004TS16     5.0\n",
       "2  A1EARN5PUVIF1S  B00004WHFL     3.0\n",
       "3  A1EARN5PUVIF1S  B00006AL0S     5.0\n",
       "4  A1EARN5PUVIF1S  B0000633EO     4.0"
      ]
     },
     "execution_count": 89,
     "metadata": {},
     "output_type": "execute_result"
    }
   ],
   "source": [
    "Trainset = X_train.copy()\n",
    "Trainset['Rating'] = Y_train\n",
    "\n",
    "\n",
    "Testset = X_test.copy()\n",
    "Testset['Rating'] = Y_test\n",
    "\n",
    "Trainset.head()"
   ]
  },
  {
   "cell_type": "code",
   "execution_count": 118,
   "id": "c00d35b9",
   "metadata": {},
   "outputs": [],
   "source": [
    "# Train and test sets initialization\n",
    "reader = Reader(rating_scale=(1, 5))\n",
    "data_train = Dataset.load_from_df(Trainset[['User_id', 'Product_id', 'Rating']], reader)\n",
    "data_test = Dataset.load_from_df(Testset[['User_id', 'Product_id', 'Rating']], reader)"
   ]
  },
  {
   "cell_type": "code",
   "execution_count": 95,
   "id": "f19a7f5e",
   "metadata": {},
   "outputs": [
    {
     "name": "stdout",
     "output_type": "stream",
     "text": [
      "CPU times: user 3min 28s, sys: 2min 53s, total: 6min 22s\n",
      "Wall time: 8min 54s\n"
     ]
    }
   ],
   "source": [
    "%%time\n",
    "# Param Grid initialization and GridSearchCV fitting\n",
    "sim_options = {\n",
    "    'name': ['cosine', 'pearson'],                     # Similaruty function\n",
    "    'min_support': [4],                                # The minimum number of common users (items) for the similarity not to be zero\n",
    "    'user_based': [False]                              # User-based or Item-based model\n",
    "}\n",
    "\n",
    "param_grid = {\n",
    "    'k': [30],                                         # The actual number of neighbors that are aggregated to compute an estimation (<=k)\n",
    "    'min_k': [2, 5],                                   # The minimum number of neighbors to take into account for aggregation. If there are not enough neighbors, the prediction is set to the global mean of all ratings. \n",
    "    'sim_options': sim_options, \n",
    "    'verbose': [False]\n",
    "}\n",
    "\n",
    "\n",
    "gs1 = GridSearchCV(KNNBasic, param_grid, measures = ['rmse'],cv = 3)\n",
    "gs1.fit(data_train)\n"
   ]
  },
  {
   "cell_type": "code",
   "execution_count": 96,
   "id": "f8f612d9",
   "metadata": {},
   "outputs": [
    {
     "name": "stdout",
     "output_type": "stream",
     "text": [
      "CPU times: user 3min 52s, sys: 3min 51s, total: 7min 43s\n",
      "Wall time: 11min 5s\n"
     ]
    }
   ],
   "source": [
    "%%time\n",
    "# Param Grid initialization and GridSearchCV fitting\n",
    "sim_options = {\n",
    "    'name': ['pearson_baseline'],                      # Similaruty function\n",
    "    'min_support': [4],                                # The minimum number of common users (items) for the similarity not to be zero\n",
    "    'user_based': [False],                             # User-based or Item-based model\n",
    "    'shrinkage': [20, 50, 100]                         # Regilarization for pirson_baseline function\n",
    "}\n",
    "\n",
    "param_grid = {\n",
    "    'k': [30],                                         # The actual number of neighbors that are aggregated to compute an estimation (<=k)\n",
    "    'min_k': [2, 5],                                   # The minimum number of neighbors to take into account for aggregation. If there are not enough neighbors, the prediction is set to the global mean of all ratings. \n",
    "    'sim_options': sim_options, \n",
    "    'verbose': [False]\n",
    "}\n",
    "\n",
    "\n",
    "gs2 = GridSearchCV(KNNBasic, param_grid, measures = ['rmse'],cv = 3)\n",
    "gs2.fit(data_train)\n",
    "\n"
   ]
  },
  {
   "cell_type": "code",
   "execution_count": 98,
   "id": "454f95ce",
   "metadata": {},
   "outputs": [
    {
     "name": "stdout",
     "output_type": "stream",
     "text": [
      "1\n",
      "Лучшее качество = 1.0693231875372424\n",
      "Параметры: {'k': 30, 'min_k': 5, 'sim_options': {'name': 'cosine', 'min_support': 4, 'user_based': False}, 'verbose': False}\n",
      "\n",
      "2\n",
      "Лучшее качество = 1.0694119882708115\n",
      "Параметры: {'k': 30, 'min_k': 5, 'sim_options': {'name': 'pearson_baseline', 'min_support': 4, 'user_based': False, 'shrinkage': 50}, 'verbose': False}\n"
     ]
    }
   ],
   "source": [
    "# Getting the most optimal parameters\n",
    "print(f\"1\\nЛучшее качество = {gs1.best_score['rmse']}\\nПараметры: {gs1.best_params['rmse']}\\n\\n2\\nЛучшее качество = {gs2.best_score['rmse']}\\nПараметры: {gs2.best_params['rmse']}\")\n"
   ]
  },
  {
   "cell_type": "markdown",
   "id": "3fdf40a9",
   "metadata": {},
   "source": [
    "#### KNNWithMeans"
   ]
  },
  {
   "cell_type": "code",
   "execution_count": 99,
   "id": "cf3269d6",
   "metadata": {},
   "outputs": [
    {
     "name": "stdout",
     "output_type": "stream",
     "text": [
      "CPU times: user 3min 38s, sys: 3min 6s, total: 6min 45s\n",
      "Wall time: 9min 25s\n"
     ]
    }
   ],
   "source": [
    "%%time\n",
    "# Param Grid initialization and GridSearchCV fitting\n",
    "sim_options = {\n",
    "    'name': ['cosine', 'pearson'],                     # Similaruty function\n",
    "    'min_support': [4],                                # The minimum number of common users (items) for the similarity not to be zero\n",
    "    'user_based': [False]                              # User-based or Item-based model\n",
    "}\n",
    "\n",
    "param_grid = {\n",
    "    'k': [30],                                         # The actual number of neighbors that are aggregated to compute an estimation (<=k)\n",
    "    'min_k': [2, 5],                                   # The minimum number of neighbors to take into account for aggregation. If there are not enough neighbors, the prediction is set to the global mean of all ratings. \n",
    "    'sim_options': sim_options, \n",
    "    'verbose': [False]\n",
    "}\n",
    "\n",
    "\n",
    "gs3 = GridSearchCV(KNNWithMeans, param_grid, measures = ['rmse'],cv = 3)\n",
    "gs3.fit(data_train)\n",
    "\n"
   ]
  },
  {
   "cell_type": "code",
   "execution_count": 100,
   "id": "719d38f9",
   "metadata": {},
   "outputs": [
    {
     "name": "stdout",
     "output_type": "stream",
     "text": [
      "CPU times: user 3min 56s, sys: 3min 36s, total: 7min 33s\n",
      "Wall time: 10min 42s\n"
     ]
    }
   ],
   "source": [
    "%%time\n",
    "# Param Grid initialization and GridSearchCV fitting\n",
    "sim_options = {\n",
    "    'name': ['pearson_baseline'],                      # Similaruty function\n",
    "    'min_support': [4],                                # The minimum number of common users (items) for the similarity not to be zero\n",
    "    'user_based': [False],                             # User-based or Item-based model\n",
    "    'shrinkage': [20, 50, 100]                         # Regilarization for pirson_baseline function\n",
    "}\n",
    "\n",
    "param_grid = {\n",
    "    'k': [30],                                         # The actual number of neighbors that are aggregated to compute an estimation (<=k)\n",
    "    'min_k': [2, 5],                                   # The minimum number of neighbors to take into account for aggregation. If there are not enough neighbors, the prediction is set to the global mean of all ratings. \n",
    "    'sim_options': sim_options, \n",
    "    'verbose': [False]\n",
    "}\n",
    "\n",
    "\n",
    "gs4 = GridSearchCV(KNNWithMeans, param_grid, measures = ['rmse'],cv = 3)\n",
    "gs4.fit(data_train)\n",
    "\n",
    "\n"
   ]
  },
  {
   "cell_type": "code",
   "execution_count": 101,
   "id": "34b82235",
   "metadata": {},
   "outputs": [
    {
     "name": "stdout",
     "output_type": "stream",
     "text": [
      "1\n",
      "Лучшее качество = 1.1352928115063976\n",
      "Параметры: {'k': 30, 'min_k': 5, 'sim_options': {'name': 'cosine', 'min_support': 4, 'user_based': False}, 'verbose': False}\n",
      "\n",
      "2\n",
      "Лучшее качество = 1.138803054323149\n",
      "Параметры: {'k': 30, 'min_k': 5, 'sim_options': {'name': 'pearson_baseline', 'min_support': 4, 'user_based': False, 'shrinkage': 20}, 'verbose': False}\n"
     ]
    }
   ],
   "source": [
    "# Getting the most optimal parameters\n",
    "print(f\"1\\nЛучшее качество = {gs3.best_score['rmse']}\\nПараметры: {gs3.best_params['rmse']}\\n\\n2\\nЛучшее качество = {gs4.best_score['rmse']}\\nПараметры: {gs4.best_params['rmse']}\")\n"
   ]
  },
  {
   "cell_type": "markdown",
   "id": "f734ef18",
   "metadata": {},
   "source": [
    "Лучшее качество показала модель KNNBasic с параметрами:\n",
    "{'k': 30, 'min_k': 5, 'sim_options': {'name': 'cosine', 'min_support': 4, 'user_based': False}, 'verbose': False}\n",
    "\n",
    "Обучим данную модел на всей тренировочной выборке и получим ее качество на тестовой."
   ]
  },
  {
   "cell_type": "code",
   "execution_count": 123,
   "id": "8509474e",
   "metadata": {},
   "outputs": [],
   "source": [
    "# Train and test samples initialization for fit and test methods\n",
    "trainset = data_train.build_full_trainset()\n",
    "NA, testset = train_test_split(data_test, test_size = 1.0, shuffle = False)"
   ]
  },
  {
   "cell_type": "code",
   "execution_count": 116,
   "id": "c917e24d",
   "metadata": {},
   "outputs": [
    {
     "name": "stdout",
     "output_type": "stream",
     "text": [
      "Computing the cosine similarity matrix...\n",
      "Done computing similarity matrix.\n"
     ]
    },
    {
     "data": {
      "text/plain": [
       "<surprise.prediction_algorithms.knns.KNNBasic at 0x7fb0aa7dedc0>"
      ]
     },
     "execution_count": 116,
     "metadata": {},
     "output_type": "execute_result"
    }
   ],
   "source": [
    "# Learning the model with the best quality\n",
    "knn_model = KNNBasic(k = 30, min_k = 5, sim_options = {'name': 'cosine', 'min_support': 4, 'user_based': False}, verbose = True)\n",
    "knn_model.fit(trainset)"
   ]
  },
  {
   "cell_type": "code",
   "execution_count": 130,
   "id": "70a0ceed",
   "metadata": {},
   "outputs": [
    {
     "name": "stdout",
     "output_type": "stream",
     "text": [
      "RMSE: 1.0253\n"
     ]
    },
    {
     "data": {
      "text/plain": [
       "1.0253156686771034"
      ]
     },
     "execution_count": 130,
     "metadata": {},
     "output_type": "execute_result"
    }
   ],
   "source": [
    "# Estimate the quality of the model on the test set\n",
    "knn_predictions = knn_model.test(testset)\n",
    "accuracy.rmse(knn_predictions)"
   ]
  },
  {
   "cell_type": "markdown",
   "id": "92683067",
   "metadata": {},
   "source": [
    "На тестовой выборке KNNBasic показала качество более чем в 2 раза лучшее, чем baseline модель. Обучим ее на всем объединенном наборе для дальнейшего использования для прогнозов."
   ]
  },
  {
   "cell_type": "code",
   "execution_count": 132,
   "id": "86ad34a7",
   "metadata": {},
   "outputs": [
    {
     "name": "stdout",
     "output_type": "stream",
     "text": [
      "Computing the cosine similarity matrix...\n",
      "Done computing similarity matrix.\n"
     ]
    },
    {
     "data": {
      "text/plain": [
       "<surprise.prediction_algorithms.knns.KNNBasic at 0x7fb0726c0460>"
      ]
     },
     "execution_count": 132,
     "metadata": {},
     "output_type": "execute_result"
    }
   ],
   "source": [
    "# Learning final model on the whole dataset\n",
    "reader = Reader(rating_scale=(1, 5))\n",
    "full_train = Dataset.load_from_df(df_data_filt[['User_id', 'Product_id', 'Rating']], reader)\n",
    "full_trainset = full_train.build_full_trainset()\n",
    "\n",
    "final_knn_model = KNNBasic(k = 30, min_k = 5, sim_options = {'name': 'cosine', 'min_support': 4, 'user_based': False}, verbose = True)\n",
    "final_knn_model.fit(full_trainset)"
   ]
  },
  {
   "cell_type": "markdown",
   "id": "6cf68f98",
   "metadata": {},
   "source": [
    "## Popular-based algorithms <a class=\"anchor\" id=\"10\"></a>"
   ]
  },
  {
   "cell_type": "markdown",
   "id": "045dc353",
   "metadata": {},
   "source": [
    "Однако у моделей коллаборативной фильтрации есть 2 общих недостатка - проблема холодного старта и проблема нетипичных пользователей. В данной работе решается первая из них. В ходе анализа входного набора мы видели, что в нем есть большое число пользователей, проставивших малое число оценок и товаров, имеющих малое число рейтингов. Для них данные алгоритмы могут показать плохое качество, а для пользователей / товаров, ранее не присутствующих в исходном наборе они и вовсе не работают. Для решения данной проблемы было решено использовать Popular-based алгоритмы, позволяющие найти и порекомендовать новым пользователям наиболее популярные товары среди всех остальных пользователей. \n",
    "\n",
    "Данные модели будут строиться на всей исходной выборке. Во-первых, это поможет избежать потери нужных рейтингов в ходе фильтрации, во-вторых, используемые алгоритмы позволяют избежать влияния на прогноз товаров с малым числом рейтингов.\n",
    "\n",
    "В качестве возможной доработки для решения второй проблемы можно предложить следующий подход:\n",
    "1. Провести кластеризацию пользователей и выявить нетипичных.\n",
    "2. Для выявленных пользователей найти товары, наиболее скоррелированные с теми, что они уже приобретали и рекомендовать именно их."
   ]
  },
  {
   "cell_type": "markdown",
   "id": "f2bb0521",
   "metadata": {},
   "source": [
    "Было решено построить сразу несколько Popular-based алгоритмов для их дальнейшей гибридизации."
   ]
  },
  {
   "cell_type": "markdown",
   "id": "d09eb33b",
   "metadata": {},
   "source": [
    "### The most popular this year <a class=\"anchor\" id=\"11\"></a>"
   ]
  },
  {
   "cell_type": "markdown",
   "id": "276c2144",
   "metadata": {},
   "source": [
    "Модель 1.\n",
    "\n",
    "Суть первой модели будет заключаться в нахождении наиболее популярных товаров за последний год. Будем считать их наиболее актуальными. Таким образом будут учитываться текущие тренды и потребности покупателей.\n",
    "\n",
    "Сортировать товары будем не только по их среднему рейтингу, но и по кол-ву проставленных рейтингов. Таким образом, рекомендоваться будут в первую очередь те товары, которые часто покупаются (а значит пользуются спросом) и среди них уже будут отбираться товары с наибольшим средним рейтингом. Также это позволит избежать влияния товаров с малым числом наивысших рейтингов."
   ]
  },
  {
   "cell_type": "code",
   "execution_count": 133,
   "id": "fb2362c1",
   "metadata": {},
   "outputs": [],
   "source": [
    "# Getting ratings of the last year\n",
    "cur_year = df_data.Year.max()\n",
    "df_year = df_data[df_data['Year'] == cur_year]"
   ]
  },
  {
   "cell_type": "code",
   "execution_count": 136,
   "id": "a0c2d557",
   "metadata": {},
   "outputs": [
    {
     "data": {
      "text/html": [
       "<div>\n",
       "<style scoped>\n",
       "    .dataframe tbody tr th:only-of-type {\n",
       "        vertical-align: middle;\n",
       "    }\n",
       "\n",
       "    .dataframe tbody tr th {\n",
       "        vertical-align: top;\n",
       "    }\n",
       "\n",
       "    .dataframe thead th {\n",
       "        text-align: right;\n",
       "    }\n",
       "</style>\n",
       "<table border=\"1\" class=\"dataframe\">\n",
       "  <thead>\n",
       "    <tr style=\"text-align: right;\">\n",
       "      <th></th>\n",
       "      <th>Product_id</th>\n",
       "      <th>Mean_rating</th>\n",
       "      <th>Count_of_ratings</th>\n",
       "    </tr>\n",
       "  </thead>\n",
       "  <tbody>\n",
       "    <tr>\n",
       "      <th>0</th>\n",
       "      <td>0511189877</td>\n",
       "      <td>4.500000</td>\n",
       "      <td>6</td>\n",
       "    </tr>\n",
       "    <tr>\n",
       "      <th>1</th>\n",
       "      <td>0528881469</td>\n",
       "      <td>4.666667</td>\n",
       "      <td>3</td>\n",
       "    </tr>\n",
       "    <tr>\n",
       "      <th>2</th>\n",
       "      <td>059400232X</td>\n",
       "      <td>5.000000</td>\n",
       "      <td>1</td>\n",
       "    </tr>\n",
       "    <tr>\n",
       "      <th>3</th>\n",
       "      <td>0594012015</td>\n",
       "      <td>3.000000</td>\n",
       "      <td>2</td>\n",
       "    </tr>\n",
       "    <tr>\n",
       "      <th>4</th>\n",
       "      <td>0594017580</td>\n",
       "      <td>3.000000</td>\n",
       "      <td>1</td>\n",
       "    </tr>\n",
       "  </tbody>\n",
       "</table>\n",
       "</div>"
      ],
      "text/plain": [
       "   Product_id  Mean_rating  Count_of_ratings\n",
       "0  0511189877     4.500000                 6\n",
       "1  0528881469     4.666667                 3\n",
       "2  059400232X     5.000000                 1\n",
       "3  0594012015     3.000000                 2\n",
       "4  0594017580     3.000000                 1"
      ]
     },
     "execution_count": 136,
     "metadata": {},
     "output_type": "execute_result"
    }
   ],
   "source": [
    "# Aggregation\n",
    "df_year_agg = pd.DataFrame({\n",
    "    'Product_id': df_year.groupby(by = 'Product_id').Rating.mean().index,\n",
    "    'Mean_rating': df_year.groupby(by = 'Product_id').Rating.mean().values,\n",
    "    'Count_of_ratings': df_year.groupby(by = 'Product_id').Rating.count().values\n",
    "})\n",
    "df_year_agg.head()"
   ]
  },
  {
   "cell_type": "code",
   "execution_count": 141,
   "id": "bc13ebcd",
   "metadata": {},
   "outputs": [
    {
     "data": {
      "text/html": [
       "<div>\n",
       "<style scoped>\n",
       "    .dataframe tbody tr th:only-of-type {\n",
       "        vertical-align: middle;\n",
       "    }\n",
       "\n",
       "    .dataframe tbody tr th {\n",
       "        vertical-align: top;\n",
       "    }\n",
       "\n",
       "    .dataframe thead th {\n",
       "        text-align: right;\n",
       "    }\n",
       "</style>\n",
       "<table border=\"1\" class=\"dataframe\">\n",
       "  <thead>\n",
       "    <tr style=\"text-align: right;\">\n",
       "      <th></th>\n",
       "      <th>Product_id</th>\n",
       "      <th>Mean_rating</th>\n",
       "      <th>Count_of_ratings</th>\n",
       "    </tr>\n",
       "  </thead>\n",
       "  <tbody>\n",
       "    <tr>\n",
       "      <th>158640</th>\n",
       "      <td>B00DR0PDNE</td>\n",
       "      <td>3.987882</td>\n",
       "      <td>9985</td>\n",
       "    </tr>\n",
       "    <tr>\n",
       "      <th>102308</th>\n",
       "      <td>B007WTAJTO</td>\n",
       "      <td>4.541258</td>\n",
       "      <td>5199</td>\n",
       "    </tr>\n",
       "    <tr>\n",
       "      <th>124253</th>\n",
       "      <td>B009SYZ8OC</td>\n",
       "      <td>4.225663</td>\n",
       "      <td>4037</td>\n",
       "    </tr>\n",
       "    <tr>\n",
       "      <th>118916</th>\n",
       "      <td>B009A5204K</td>\n",
       "      <td>4.017753</td>\n",
       "      <td>3774</td>\n",
       "    </tr>\n",
       "    <tr>\n",
       "      <th>46318</th>\n",
       "      <td>B003ES5ZUU</td>\n",
       "      <td>4.703036</td>\n",
       "      <td>3492</td>\n",
       "    </tr>\n",
       "    <tr>\n",
       "      <th>139466</th>\n",
       "      <td>B00BGGDVOO</td>\n",
       "      <td>4.392310</td>\n",
       "      <td>3199</td>\n",
       "    </tr>\n",
       "    <tr>\n",
       "      <th>46249</th>\n",
       "      <td>B003ELYQGG</td>\n",
       "      <td>4.398866</td>\n",
       "      <td>3174</td>\n",
       "    </tr>\n",
       "    <tr>\n",
       "      <th>85155</th>\n",
       "      <td>B005X1Y7I2</td>\n",
       "      <td>4.461564</td>\n",
       "      <td>2966</td>\n",
       "    </tr>\n",
       "    <tr>\n",
       "      <th>139398</th>\n",
       "      <td>B00BGA9WK2</td>\n",
       "      <td>4.213764</td>\n",
       "      <td>2877</td>\n",
       "    </tr>\n",
       "    <tr>\n",
       "      <th>100420</th>\n",
       "      <td>B007R5YDYA</td>\n",
       "      <td>4.697748</td>\n",
       "      <td>2842</td>\n",
       "    </tr>\n",
       "  </tbody>\n",
       "</table>\n",
       "</div>"
      ],
      "text/plain": [
       "        Product_id  Mean_rating  Count_of_ratings\n",
       "158640  B00DR0PDNE     3.987882              9985\n",
       "102308  B007WTAJTO     4.541258              5199\n",
       "124253  B009SYZ8OC     4.225663              4037\n",
       "118916  B009A5204K     4.017753              3774\n",
       "46318   B003ES5ZUU     4.703036              3492\n",
       "139466  B00BGGDVOO     4.392310              3199\n",
       "46249   B003ELYQGG     4.398866              3174\n",
       "85155   B005X1Y7I2     4.461564              2966\n",
       "139398  B00BGA9WK2     4.213764              2877\n",
       "100420  B007R5YDYA     4.697748              2842"
      ]
     },
     "execution_count": 141,
     "metadata": {},
     "output_type": "execute_result"
    }
   ],
   "source": [
    "# Getting Top-10 items\n",
    "df_year_agg_sort = df_year_agg.sort_values(by = ['Count_of_ratings', 'Mean_rating'], ascending = False)\n",
    "\n",
    "n = 10\n",
    "top_n = df_year_agg_sort[:n]\n",
    "top_n"
   ]
  },
  {
   "cell_type": "markdown",
   "id": "0559f66b",
   "metadata": {},
   "source": [
    "### Weighted rating system <a class=\"anchor\" id=\"12\"></a>"
   ]
  },
  {
   "cell_type": "markdown",
   "id": "e2d6f292",
   "metadata": {},
   "source": [
    "Модель 2.\n",
    "\n",
    "Данные алгоритм подразумевает расчет нового рейтинга для каждого товара по следующей формуле:\n",
    "\n",
    "    WR = (v ÷ (v+m)) × R + (m ÷ (v+m)) × C, where\n",
    "- R is the average rating for the item.\n",
    "- v is the number of votes for the item.\n",
    "- m is the minimum votes required to be listed in the popular items(defined by > percentile 80 of total votes)\n",
    "- C is the average rating across the whole dataset.\n",
    "\n",
    "Данный подход приводит к тому, что у товаров с большим числом оценок посчитанный рейтинг будет близок к их среднему, а у товаров с малым числом оценок посчитанный рейтинг будет близок к среднему рейтингу по всей выборке."
   ]
  },
  {
   "cell_type": "code",
   "execution_count": 143,
   "id": "67956723",
   "metadata": {},
   "outputs": [
    {
     "data": {
      "text/html": [
       "<div>\n",
       "<style scoped>\n",
       "    .dataframe tbody tr th:only-of-type {\n",
       "        vertical-align: middle;\n",
       "    }\n",
       "\n",
       "    .dataframe tbody tr th {\n",
       "        vertical-align: top;\n",
       "    }\n",
       "\n",
       "    .dataframe thead th {\n",
       "        text-align: right;\n",
       "    }\n",
       "</style>\n",
       "<table border=\"1\" class=\"dataframe\">\n",
       "  <thead>\n",
       "    <tr style=\"text-align: right;\">\n",
       "      <th></th>\n",
       "      <th>Product_id</th>\n",
       "      <th>Mean_rating_R_</th>\n",
       "      <th>Count_of_ratings_v_</th>\n",
       "    </tr>\n",
       "  </thead>\n",
       "  <tbody>\n",
       "    <tr>\n",
       "      <th>0</th>\n",
       "      <td>0132793040</td>\n",
       "      <td>5.000000</td>\n",
       "      <td>1</td>\n",
       "    </tr>\n",
       "    <tr>\n",
       "      <th>1</th>\n",
       "      <td>0321732944</td>\n",
       "      <td>5.000000</td>\n",
       "      <td>1</td>\n",
       "    </tr>\n",
       "    <tr>\n",
       "      <th>2</th>\n",
       "      <td>0439886341</td>\n",
       "      <td>1.666667</td>\n",
       "      <td>3</td>\n",
       "    </tr>\n",
       "    <tr>\n",
       "      <th>3</th>\n",
       "      <td>0511189877</td>\n",
       "      <td>4.500000</td>\n",
       "      <td>6</td>\n",
       "    </tr>\n",
       "    <tr>\n",
       "      <th>4</th>\n",
       "      <td>0528881469</td>\n",
       "      <td>2.851852</td>\n",
       "      <td>27</td>\n",
       "    </tr>\n",
       "  </tbody>\n",
       "</table>\n",
       "</div>"
      ],
      "text/plain": [
       "   Product_id  Mean_rating_R_  Count_of_ratings_v_\n",
       "0  0132793040        5.000000                    1\n",
       "1  0321732944        5.000000                    1\n",
       "2  0439886341        1.666667                    3\n",
       "3  0511189877        4.500000                    6\n",
       "4  0528881469        2.851852                   27"
      ]
     },
     "execution_count": 143,
     "metadata": {},
     "output_type": "execute_result"
    }
   ],
   "source": [
    "# Calculating R and v for each item\n",
    "df_agg = pd.DataFrame({\n",
    "    'Product_id': df_data.groupby(by = 'Product_id').Rating.mean().index,\n",
    "    'Mean_rating_R_': df_data.groupby(by = 'Product_id').Rating.mean().values,\n",
    "    'Count_of_ratings_v_': df_data.groupby(by = 'Product_id').Rating.count().values\n",
    "})\n",
    "df_agg.head()"
   ]
  },
  {
   "cell_type": "code",
   "execution_count": 146,
   "id": "af75741f",
   "metadata": {},
   "outputs": [
    {
     "name": "stdout",
     "output_type": "stream",
     "text": [
      "The minimum ratings required to be listed in the chart is 25.0\n",
      "The average rating across the whole dataset is 3.889700263013443\n"
     ]
    }
   ],
   "source": [
    "# Calculating m and C\n",
    "m = df_agg.Count_of_ratings_v_.quantile(0.9)\n",
    "print(f\"The minimum ratings required to be listed in the chart is {m}\")\n",
    "\n",
    "C = df_agg.Mean_rating_R_.mean()\n",
    "print(f\"The average rating across the whole dataset is {C}\")"
   ]
  },
  {
   "cell_type": "code",
   "execution_count": 148,
   "id": "13483d52",
   "metadata": {},
   "outputs": [
    {
     "data": {
      "text/plain": [
       "(48174, 3)"
      ]
     },
     "execution_count": 148,
     "metadata": {},
     "output_type": "execute_result"
    }
   ],
   "source": [
    "# Filtering items with less than m ratings\n",
    "df_agg_filt = df_agg[df_agg['Count_of_ratings_v_'] >= m]\n",
    "df_agg_filt.shape"
   ]
  },
  {
   "cell_type": "code",
   "execution_count": 151,
   "id": "02648ca5",
   "metadata": {},
   "outputs": [
    {
     "name": "stderr",
     "output_type": "stream",
     "text": [
      "<ipython-input-151-d8a5f257ee13>:8: SettingWithCopyWarning: \n",
      "A value is trying to be set on a copy of a slice from a DataFrame.\n",
      "Try using .loc[row_indexer,col_indexer] = value instead\n",
      "\n",
      "See the caveats in the documentation: https://pandas.pydata.org/pandas-docs/stable/user_guide/indexing.html#returning-a-view-versus-a-copy\n",
      "  df_agg_filt['Score'] = df_agg_filt.apply(lambda x: score_calc(x), axis = 1)\n",
      "<ipython-input-151-d8a5f257ee13>:11: SettingWithCopyWarning: \n",
      "A value is trying to be set on a copy of a slice from a DataFrame\n",
      "\n",
      "See the caveats in the documentation: https://pandas.pydata.org/pandas-docs/stable/user_guide/indexing.html#returning-a-view-versus-a-copy\n",
      "  df_agg_filt.sort_values(by = 'Score', ascending = False, inplace = True)\n"
     ]
    },
    {
     "data": {
      "text/html": [
       "<div>\n",
       "<style scoped>\n",
       "    .dataframe tbody tr th:only-of-type {\n",
       "        vertical-align: middle;\n",
       "    }\n",
       "\n",
       "    .dataframe tbody tr th {\n",
       "        vertical-align: top;\n",
       "    }\n",
       "\n",
       "    .dataframe thead th {\n",
       "        text-align: right;\n",
       "    }\n",
       "</style>\n",
       "<table border=\"1\" class=\"dataframe\">\n",
       "  <thead>\n",
       "    <tr style=\"text-align: right;\">\n",
       "      <th></th>\n",
       "      <th>Product_id</th>\n",
       "      <th>Mean_rating_R_</th>\n",
       "      <th>Count_of_ratings_v_</th>\n",
       "      <th>Score</th>\n",
       "    </tr>\n",
       "  </thead>\n",
       "  <tbody>\n",
       "    <tr>\n",
       "      <th>207782</th>\n",
       "      <td>B0043WJRRS</td>\n",
       "      <td>4.881369</td>\n",
       "      <td>2512</td>\n",
       "      <td>4.871597</td>\n",
       "    </tr>\n",
       "    <tr>\n",
       "      <th>414879</th>\n",
       "      <td>B00CG70K78</td>\n",
       "      <td>4.949367</td>\n",
       "      <td>237</td>\n",
       "      <td>4.848254</td>\n",
       "    </tr>\n",
       "    <tr>\n",
       "      <th>324655</th>\n",
       "      <td>B007SZ0E1K</td>\n",
       "      <td>4.895323</td>\n",
       "      <td>449</td>\n",
       "      <td>4.842284</td>\n",
       "    </tr>\n",
       "    <tr>\n",
       "      <th>180308</th>\n",
       "      <td>B003FVVMS0</td>\n",
       "      <td>4.853412</td>\n",
       "      <td>1876</td>\n",
       "      <td>4.840738</td>\n",
       "    </tr>\n",
       "    <tr>\n",
       "      <th>166101</th>\n",
       "      <td>B0033PRWSW</td>\n",
       "      <td>4.901809</td>\n",
       "      <td>387</td>\n",
       "      <td>4.840394</td>\n",
       "    </tr>\n",
       "  </tbody>\n",
       "</table>\n",
       "</div>"
      ],
      "text/plain": [
       "        Product_id  Mean_rating_R_  Count_of_ratings_v_     Score\n",
       "207782  B0043WJRRS        4.881369                 2512  4.871597\n",
       "414879  B00CG70K78        4.949367                  237  4.848254\n",
       "324655  B007SZ0E1K        4.895323                  449  4.842284\n",
       "180308  B003FVVMS0        4.853412                 1876  4.840738\n",
       "166101  B0033PRWSW        4.901809                  387  4.840394"
      ]
     },
     "execution_count": 151,
     "metadata": {},
     "output_type": "execute_result"
    }
   ],
   "source": [
    "# Define a fucntion to calculate the target score\n",
    "def score_calc(obs):\n",
    "    v = obs['Count_of_ratings_v_']\n",
    "    R = obs['Mean_rating_R_']\n",
    "    return (v / (v + m) * R) + (m / (m + v) * C)\n",
    "\n",
    "# Calculating scores\n",
    "df_agg_filt['Score'] = df_agg_filt.apply(lambda x: score_calc(x), axis = 1)\n",
    "\n",
    "# Sorting items by the score\n",
    "df_agg_filt.sort_values(by = 'Score', ascending = False, inplace = True)\n",
    "df_agg_filt.head()"
   ]
  },
  {
   "cell_type": "markdown",
   "id": "8edbea8f",
   "metadata": {},
   "source": [
    "Недостатком данного подхода является то, что товарам с малым чилом рейтингов будет присвоен score, близкий к среднему рейтигу по всей выборке. Это может привести к выводу их в топ при большом значении среднего. Однако в нашем случае средний рейтинг = 3.88, и данная проблема нам не грозит."
   ]
  },
  {
   "cell_type": "markdown",
   "id": "49c15a8c",
   "metadata": {},
   "source": [
    "### RecSys with custom rating score <a class=\"anchor\" id=\"13\"></a>"
   ]
  },
  {
   "cell_type": "markdown",
   "id": "791918e5",
   "metadata": {},
   "source": [
    "Модель 3.\n",
    "\n",
    "Суть данного подхода будет заключаться в расчете нового рейтинга для каждого товара по формуле:\n",
    "\n",
    "score = mean rate of the item * count of rates of the item\n",
    "\n",
    "Данный подход так же позволяет избежать влияния на прогноз товаров с малым числом рейтингов. На итоговый score влияют как число оценок, так и их среднее."
   ]
  },
  {
   "cell_type": "code",
   "execution_count": 154,
   "id": "cae681e6",
   "metadata": {},
   "outputs": [
    {
     "data": {
      "text/html": [
       "<div>\n",
       "<style scoped>\n",
       "    .dataframe tbody tr th:only-of-type {\n",
       "        vertical-align: middle;\n",
       "    }\n",
       "\n",
       "    .dataframe tbody tr th {\n",
       "        vertical-align: top;\n",
       "    }\n",
       "\n",
       "    .dataframe thead th {\n",
       "        text-align: right;\n",
       "    }\n",
       "</style>\n",
       "<table border=\"1\" class=\"dataframe\">\n",
       "  <thead>\n",
       "    <tr style=\"text-align: right;\">\n",
       "      <th></th>\n",
       "      <th>Product_id</th>\n",
       "      <th>Mean_rating_R_</th>\n",
       "      <th>Count_of_ratings_v_</th>\n",
       "      <th>Score</th>\n",
       "    </tr>\n",
       "  </thead>\n",
       "  <tbody>\n",
       "    <tr>\n",
       "      <th>308398</th>\n",
       "      <td>B0074BW614</td>\n",
       "      <td>4.491504</td>\n",
       "      <td>18244</td>\n",
       "      <td>81943.0</td>\n",
       "    </tr>\n",
       "    <tr>\n",
       "      <th>429572</th>\n",
       "      <td>B00DR0PDNE</td>\n",
       "      <td>3.931020</td>\n",
       "      <td>16454</td>\n",
       "      <td>64681.0</td>\n",
       "    </tr>\n",
       "    <tr>\n",
       "      <th>327308</th>\n",
       "      <td>B007WTAJTO</td>\n",
       "      <td>4.424005</td>\n",
       "      <td>14172</td>\n",
       "      <td>62697.0</td>\n",
       "    </tr>\n",
       "    <tr>\n",
       "      <th>102804</th>\n",
       "      <td>B0019EHU8G</td>\n",
       "      <td>4.754497</td>\n",
       "      <td>12285</td>\n",
       "      <td>58409.0</td>\n",
       "    </tr>\n",
       "    <tr>\n",
       "      <th>296625</th>\n",
       "      <td>B006GWO5WK</td>\n",
       "      <td>4.314657</td>\n",
       "      <td>12226</td>\n",
       "      <td>52751.0</td>\n",
       "    </tr>\n",
       "  </tbody>\n",
       "</table>\n",
       "</div>"
      ],
      "text/plain": [
       "        Product_id  Mean_rating_R_  Count_of_ratings_v_    Score\n",
       "308398  B0074BW614        4.491504                18244  81943.0\n",
       "429572  B00DR0PDNE        3.931020                16454  64681.0\n",
       "327308  B007WTAJTO        4.424005                14172  62697.0\n",
       "102804  B0019EHU8G        4.754497                12285  58409.0\n",
       "296625  B006GWO5WK        4.314657                12226  52751.0"
      ]
     },
     "execution_count": 154,
     "metadata": {},
     "output_type": "execute_result"
    }
   ],
   "source": [
    "# Calculating the new score\n",
    "df_agg_2 = df_agg.copy()\n",
    "df_agg_2['Score'] = df_agg_2.apply(lambda x: x['Mean_rating_R_'] * x['Count_of_ratings_v_'], axis = 1)\n",
    "\n",
    "# Sorting by the new score\n",
    "df_agg_2.sort_values(by = 'Score', ascending = False, inplace = True)\n",
    "df_agg_2.head()"
   ]
  },
  {
   "cell_type": "markdown",
   "id": "94c62e59",
   "metadata": {},
   "source": [
    "### Comparison of results <a class=\"anchor\" id=\"14\"></a>"
   ]
  },
  {
   "cell_type": "code",
   "execution_count": 250,
   "id": "1153d567",
   "metadata": {},
   "outputs": [
    {
     "name": "stdout",
     "output_type": "stream",
     "text": [
      "Rating-weighted score:\n",
      "         Product_id  Mean_rating_R_  Count_of_ratings_v_     Score\n",
      "207782  B0043WJRRS        4.881369                 2512  4.871597\n",
      "414879  B00CG70K78        4.949367                  237  4.848254\n",
      "324655  B007SZ0E1K        4.895323                  449  4.842284\n",
      "180308  B003FVVMS0        4.853412                 1876  4.840738\n",
      "166101  B0033PRWSW        4.901809                  387  4.840394\n",
      "354040  B008VGCT9K        4.939130                  230  4.836245\n",
      "137519  B0029N3U8K        4.869301                  658  4.833444\n",
      "204700  B0041OYTJE        4.879913                  458  4.828659\n",
      "454884  B00GMRCAC6        4.951872                  187  4.826616\n",
      "323018  B007R5YGO2        4.836907                 1306  4.819115\n",
      "\n",
      "Custom rate-score: \n",
      "         Product_id  Mean_rating_R_  Count_of_ratings_v_    Score\n",
      "308398  B0074BW614        4.491504                18244  81943.0\n",
      "429572  B00DR0PDNE        3.931020                16454  64681.0\n",
      "327308  B007WTAJTO        4.424005                14172  62697.0\n",
      "102804  B0019EHU8G        4.754497                12285  58409.0\n",
      "296625  B006GWO5WK        4.314657                12226  52751.0\n",
      "178601  B003ELYQGG        4.392528                11617  51028.0\n",
      "178813  B003ES5ZUU        4.704749                10276  48346.0\n",
      "323013  B007R5YDYA        4.690926                 9907  46473.0\n",
      "289775  B00622AG6S        4.420136                 9823  43419.0\n",
      "30276   B0002L5R78        4.448614                 9487  42204.0\n",
      "\n",
      "Count of intersections = 0\n"
     ]
    }
   ],
   "source": [
    "print(\"Rating-weighted score:\\n\", df_agg_filt.head(10))\n",
    "print(\"\\nCustom rate-score: \\n\", df_agg_2.head(10))\n",
    "print(f\"\\nCount of intersections = {len(set(df_agg_filt['Product_id'].head(10)).intersection(set(df_agg_2['Product_id'].head(10))))}\")\n"
   ]
  },
  {
   "cell_type": "markdown",
   "id": "94b98a66",
   "metadata": {},
   "source": [
    "Пересечений в рекомендациях, полученных данными методами, нет. Можно заметить, что первый алгоритм возвращает товары с бОльшим средним рейтингом и при этом имеющие приемлемое число оценок. Второй же алгоритм отдает предпочтение в первую очередь тем товарам, которые имеют наибольшее число оценок.\n",
    "\n",
    "Скомбинировав оба подхода, мы можем выдавать пользователю как товары с наивысшими рейтингами, так и наиболее часто покупаемые товары (при допущении о том, что имеется прямо пропорциональная зависимость между числом купленных единиц товара и числом его оценок). "
   ]
  },
  {
   "cell_type": "markdown",
   "id": "ffe88535",
   "metadata": {},
   "source": [
    "Недостатком всех Popular-based алгоритмов является неперсонализированность рекомендаций, так как они строятся на основе всех рейтингов в наборе. Именно поэтому использовать только их предлагается исключительно для новых пользователей и для пользователей, которые оставили мало оценок (меньше 30) для составления картины об их предпочтениях. Для остальных же пользователей было решено использовать данные алгоритмы лишь для получения дополнительных рекомендаций для более \"широкого\" покрытия возможных предпочтений. Основные же рекомендации они будут получать от построенной ранее модели коллаборативной фильтрации."
   ]
  },
  {
   "cell_type": "markdown",
   "id": "44017aa4",
   "metadata": {},
   "source": [
    "# Building Final Recommendation System <a class=\"anchor\" id=\"15\"></a>"
   ]
  },
  {
   "cell_type": "markdown",
   "id": "4047bab3",
   "metadata": {},
   "source": [
    "Для использования преимуществ всех построенных моделей, а также для наиболее широкого охвата возможных рекомендаций было решено построть гибридную рекомендательную систему. Алгоритм получения рекомендаций для очередного пользователя состоит в следующем:\n",
    "\n",
    "1. Если данный пользователь за все время проставил менее 30 рейтингов, то пользователь получит следующие рекомендации:\n",
    "- 5 товаров - наиболее популярные товары в текущем году (модель 1)\n",
    "- 5 товаров - рекомендации, полученные с помощью модели 2\n",
    "- 5 товаров - рекомендации, полученные с помощью модели 3\n",
    "2. Если данный пользователь за все время проставил 30 и более рейтингов, то пользователь получит следующие рекомендации:\n",
    "- 9 товаров - рекомендации, полученные с помощью модели KNNBasic\n",
    "- по 2 рекомендации, полученные с помощью каждой из Popular-based моделей.\n",
    "\n",
    "В каждом из случаев система выдает 15 рекомендаций."
   ]
  },
  {
   "cell_type": "code",
   "execution_count": 247,
   "id": "5e2bfc4d",
   "metadata": {},
   "outputs": [],
   "source": [
    "# Define a function to get prediction from KNN best model\n",
    "def predict_cf(user_id):\n",
    "    with_rates = set(df_data_filt[df_data_filt['User_id'] == user_id].Product_id) # Items which are alredy estimated by this user\n",
    "    item_set = set(df_data_filt[~df_data_filt['Product_id'].isin(with_rates)].Product_id) # Items which are not already estimated by this user\n",
    "\n",
    "    # Building a sorted dict: {'item_id' : predicted rating} and getting top from it\n",
    "    pred_dict = defaultdict(float)\n",
    "    for item_id in item_set:\n",
    "        prediction = final_knn_model.predict(user_id, item_id, clip=True, verbose=False)\n",
    "        pred_dict[prediction.iid] = prediction.est\n",
    "    pred_dict = sorted(pred_dict.items(), key = lambda x: x[1], reverse = True)[:9]\n",
    "    top = [x[0] for x in pred_dict]\n",
    "\n",
    "    return top\n",
    "\n",
    "\n",
    "# Define an actual set of users who have more than 30 rates\n",
    "user_set = set(df_data_filt['User_id'])\n",
    "\n",
    "# Define a function to get final recommendation\n",
    "def predict_recs(user_id):\n",
    "    top = []\n",
    "    if user_id in user_set:\n",
    "        top = predict_cf(user_id)                            # From KNNBasic model\n",
    "        top.extend(list(df_year_agg_sort['Product_id'][:2])) # From model 0\n",
    "        top.extend(list(df_agg_filt['Product_id'][:2]))      # From model 1\n",
    "        top.extend(list(df_agg_2['Product_id'][:2]))         # From model 2\n",
    "        \n",
    "    else:\n",
    "        top.extend(list(df_year_agg_sort['Product_id'][:5])) # From model 0\n",
    "        top.extend(list(df_agg_filt['Product_id'][:5]))      # From model 1\n",
    "        top.extend(list(df_agg_2['Product_id'][:5]))         # From model 2\n",
    "        \n",
    "    return top\n",
    "        "
   ]
  },
  {
   "cell_type": "code",
   "execution_count": 249,
   "id": "ffc86237",
   "metadata": {},
   "outputs": [
    {
     "data": {
      "text/plain": [
       "['B00834SJNA',\n",
       " 'B001XURP7W',\n",
       " 'B005FYNSPK',\n",
       " 'B0041Q38NU',\n",
       " 'B000LRMS66',\n",
       " 'B002V88HFE',\n",
       " 'B005HMKKH4',\n",
       " 'B0019EHU8G',\n",
       " 'B000N99BBC',\n",
       " 'B00DR0PDNE',\n",
       " 'B007WTAJTO',\n",
       " 'B0043WJRRS',\n",
       " 'B00CG70K78',\n",
       " 'B0074BW614',\n",
       " 'B00DR0PDNE']"
      ]
     },
     "execution_count": 249,
     "metadata": {},
     "output_type": "execute_result"
    }
   ],
   "source": [
    "# Getting final recommendations for random user\n",
    "predict_recs('A3BMUBUC1N77U8')"
   ]
  },
  {
   "cell_type": "markdown",
   "id": "723d7a00",
   "metadata": {},
   "source": [
    "В ходе данной работы была построена гибридная рекомендательная система, позволяющая получать рекомендации как для новых пользователей, так и для уже совершавших покупки на Amazon."
   ]
  }
 ],
 "metadata": {
  "kernelspec": {
   "display_name": "Python 3",
   "language": "python",
   "name": "python3"
  },
  "language_info": {
   "codemirror_mode": {
    "name": "ipython",
    "version": 3
   },
   "file_extension": ".py",
   "mimetype": "text/x-python",
   "name": "python",
   "nbconvert_exporter": "python",
   "pygments_lexer": "ipython3",
   "version": "3.8.8"
  },
  "toc": {
   "base_numbering": 1,
   "nav_menu": {},
   "number_sections": false,
   "sideBar": true,
   "skip_h1_title": true,
   "title_cell": "Table of Contents",
   "title_sidebar": "Contents",
   "toc_cell": true,
   "toc_position": {},
   "toc_section_display": true,
   "toc_window_display": true
  }
 },
 "nbformat": 4,
 "nbformat_minor": 5
}
